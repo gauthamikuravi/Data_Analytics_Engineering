{
 "cells": [
  {
   "cell_type": "markdown",
   "metadata": {},
   "source": [
    "#### AIT_590_Natural Language Processing - Optional Lab -1\n",
    "###### Sai Gauthami Kuravi(G01217086)"
   ]
  },
  {
   "cell_type": "markdown",
   "metadata": {},
   "source": [
    "Use the web scraping technique with BeautifulSoup as shown in class to get the\n",
    "text data from the specified data location on the Wikipedia webpage."
   ]
  },
  {
   "cell_type": "code",
   "execution_count": 2,
   "metadata": {},
   "outputs": [],
   "source": [
    "import nltk\n",
    "import bs4 as bs  # BeautifulSoup\n",
    "import urllib.request\n",
    "import re"
   ]
  },
  {
   "cell_type": "markdown",
   "metadata": {},
   "source": [
    "Source:Dr Liao coding examples. Extracting the text from the text location https://en.wikipedia.org/wiki/Natural_language_processing"
   ]
  },
  {
   "cell_type": "code",
   "execution_count": 3,
   "metadata": {},
   "outputs": [],
   "source": [
    "def _scrape_webpage(url):\n",
    "    \"\"\"\n",
    "    Use BeautifulSoup to scrape the webpage text contents.\n",
    "    \"\"\"    \n",
    "    scraped_textdata = urllib.request.urlopen(url)\n",
    "    textdata = scraped_textdata.read()\n",
    "    parsed_textdata = bs.BeautifulSoup(textdata,'lxml')\n",
    "    paragraphs = parsed_textdata.find_all('p')\n",
    "    formated_text = \"\"\n",
    "\n",
    "    for para in paragraphs:\n",
    "        formated_text += para.text\n",
    "    \n",
    "    return formated_text"
   ]
  },
  {
   "cell_type": "code",
   "execution_count": 4,
   "metadata": {},
   "outputs": [],
   "source": [
    "mytext = _scrape_webpage('https://en.wikipedia.org/wiki/Natural_language_processing')"
   ]
  },
  {
   "cell_type": "code",
   "execution_count": 5,
   "metadata": {},
   "outputs": [
    {
     "data": {
      "text/plain": [
       "'Natural language processing (NLP) is a subfield of linguistics, computer science, and artificial intelligence concerned with the interactions between computers and human language, in particular how to program computers to process and analyze large amounts of natural language data.\\nChallenges in natural language processing frequently involve speech recognition, natural language understanding, and natural-language generation.\\nNatural language processing has its roots in the 1950s. Already in 1950, Alan Turing published an article titled \"Computing Machinery and Intelligence\" which proposed what is now called the Turing test as a criterion of intelligence, a task that involves the automated interpretation and generation of natural language, but at the time not articulated as a problem separate from artificial intelligence.\\nThe premise of symbolic NLP is well-summarized by John Searle\\'s Chinese room experiment: Given a collection of rules (e.g., a Chinese phrasebook, with questions and matching answers), the computer emulates natural language understanding (or other NLP tasks) by applying those rules to the data it is confronted with.\\nUp to the 1980s, most natural language processing systems were based on complex sets of hand-written rules.  Starting in the late 1980s, however, there was a revolution in natural language processing with the introduction of machine learning algorithms for language processing.  This was due to both the steady increase in computational power (see Moore\\'s law) and the gradual lessening of the dominance of Chomskyan theories of linguistics (e.g. transformational grammar), whose theoretical underpinnings discouraged the sort of corpus linguistics that underlies the machine-learning approach to language processing.[6]\\nIn the 2010s, representation learning and deep neural network-style machine learning methods became widespread in natural language processing, due in part to a flurry of results showing that such techniques[7][8] can achieve state-of-the-art results in many natural language tasks, for example in language modeling,[9] parsing,[10][11] and many others.\\nIn the early days, many language-processing systems were designed by symbolic methods, i.e., the hand-coding of a set of rules, coupled with a dictionary lookup:[12][13] such as by writing grammars or devising heuristic rules for stemming.\\nMore recent systems based on machine-learning algorithms have many advantages over hand-produced rules: \\nDespite the popularity of machine learning in NLP research, symbolic methods are still (2020) commonly used\\nSince the so-called \"statistical revolution\"[14][15] in the late 1980s and mid-1990s, much natural language processing research has relied heavily on machine learning. The machine-learning paradigm calls instead for using statistical inference to automatically learn such rules through the analysis of large corpora (the plural form of corpus, is a set of documents, possibly with human or computer annotations) of typical real-world examples.\\nMany different classes of machine-learning algorithms have been applied to natural-language-processing tasks. These algorithms take as input a large set of \"features\" that are generated from the input data. Increasingly, however, research has focused on statistical models, which make soft, probabilistic decisions based on attaching real-valued weights to each input feature. Such models have the advantage that they can express the relative certainty of many different possible answers rather than only one, producing more reliable results when such a model is included as a component of a larger system.\\nSome of the earliest-used machine learning algorithms, such as decision trees, produced systems of hard if-then rules similar to existing hand-written rules.  However, part-of-speech tagging introduced the use of hidden Markov models to natural language processing, and increasingly, research has focused on statistical models, which make soft, probabilistic decisions based on attaching real-valued weights to the features making up the input data. The cache language models upon which many speech recognition systems now rely are examples of such statistical models.  Such models are generally more robust when given unfamiliar input, especially input that contains errors (as is very common for real-world data), and produce more reliable results when integrated into a larger system comprising multiple subtasks.\\nSince the neural turn, statistical methods in NLP research have been largely replaced by neural networks. However, they continue to be relevant for contexts in which statistical interpretability and transparency is required.\\nA major drawback of statistical methods is that they require elaborate feature engineering. Since the early 2010s,[16] the field has thus largely abandoned statistical methods and shifted to neural networks for machine learning. Popular techniques include the use of word embeddings to capture semantic properties of words, and an increase in end-to-end learning of a higher-level task (e.g., question answering) instead of relying on a pipeline of separate intermediate tasks (e.g., part-of-speech tagging and dependency parsing). In some areas, this shift has entailed substantial changes in how NLP systems are designed, such that deep neural network-based approaches may be viewed as a new paradigm distinct from statistical natural language processing. For instance, the term neural machine translation (NMT) emphasizes the fact that deep learning-based approaches to machine translation directly learn sequence-to-sequence transformations, obviating the need for intermediate steps such as word alignment and language modeling that was used in statistical machine translation (SMT).\\nThe following is a list of some of the most commonly researched tasks in natural language processing. Some of these tasks have direct real-world applications, while others more commonly serve as subtasks that are used to aid in solving larger tasks.\\nThough natural language processing tasks are closely intertwined, they can be subdivided into categories for convenience. A coarse division is given below.\\nCognition refers to \"the mental action or process of acquiring knowledge and understanding through thought, experience, and the senses.\"[25] Cognitive science is the interdisciplinary, scientific study of the mind and its processes.[26] Cognitive linguistics is an interdisciplinary branch of linguistics, combining knowledge and research from both psychology and linguistics.[27] George Lakoff offers a methodology to build Natural language processing (NLP) algorithms through the perspective of Cognitive science, along with the findings of Cognitive linguistics:[28]\\nThe first defining aspect of this cognitive task of NLP is the application of the theory of Conceptual metaphor, explained by Lakoff as “the understanding of one idea, in terms of another” which provides an idea of the intent of the author.[29]\\nFor example, consider some of the meanings, in English, of the word “big”. When used as a Comparative, as in “That is a big tree,” a likely inference of the intent of the author is that the author is using the word “big” to imply a statement about the tree being ”physically large” in comparison to other trees or the authors experience.  When used as a Stative verb, as in ”Tomorrow is a big day”, a likely inference of the author’s intent it that ”big” is being used to imply ”importance”.  These examples are not presented to be complete, but merely as indicators of the implication of the idea of Conceptual metaphor.  The intent behind other usages, like in ”She is a big person” will remain somewhat ambiguous to a person and a cognitive NLP algorithm alike without additional information.\\nThis leads to the second defining aspect of this cognitive task of NLP, namely Probabilistic context-free grammar (PCFG) which enables cognitive NLP algorithms to assign relative measures of meaning  to a word, phrase, sentence or piece of text based on the information presented before and after the piece of text being analyzed. The mathematical equation for such algorithms is presented in US patent 9269353\\xa0:\\nWhere,\\n\\xa0 \\u2003 \\xa0RMM, is the Relative Measure of Meaning\\n\\xa0 \\u2003 \\xa0token, is any block of text, sentence, phrase or word\\n\\xa0 \\u2003 \\xa0N, is the number of tokens being analyzed\\n\\xa0 \\u2003 \\xa0PMM, is the Probable Measure of Meaning based on a corpora\\n\\xa0 \\u2003 \\xa0d, is the location of the token along the sequence of N-1 tokens\\n\\xa0 \\u2003 \\xa0PF, is the Probability Function specific to a language\\n'"
      ]
     },
     "execution_count": 5,
     "metadata": {},
     "output_type": "execute_result"
    }
   ],
   "source": [
    "mytext"
   ]
  },
  {
   "cell_type": "markdown",
   "metadata": {},
   "source": [
    "**Process the text data and must include:**"
   ]
  },
  {
   "cell_type": "markdown",
   "metadata": {},
   "source": [
    "#### 1)Sentence Tokenization"
   ]
  },
  {
   "cell_type": "code",
   "execution_count": 6,
   "metadata": {},
   "outputs": [],
   "source": [
    "from nltk.tokenize import sent_tokenize\n",
    "tokens = sent_tokenize(mytext)\n"
   ]
  },
  {
   "cell_type": "code",
   "execution_count": 7,
   "metadata": {},
   "outputs": [
    {
     "name": "stdout",
     "output_type": "stream",
     "text": [
      "# of sentences:  43\n"
     ]
    },
    {
     "data": {
      "text/plain": [
       "['Natural language processing (NLP) is a subfield of linguistics, computer science, and artificial intelligence concerned with the interactions between computers and human language, in particular how to program computers to process and analyze large amounts of natural language data.',\n",
       " 'Challenges in natural language processing frequently involve speech recognition, natural language understanding, and natural-language generation.',\n",
       " 'Natural language processing has its roots in the 1950s.',\n",
       " 'Already in 1950, Alan Turing published an article titled \"Computing Machinery and Intelligence\" which proposed what is now called the Turing test as a criterion of intelligence, a task that involves the automated interpretation and generation of natural language, but at the time not articulated as a problem separate from artificial intelligence.',\n",
       " \"The premise of symbolic NLP is well-summarized by John Searle's Chinese room experiment: Given a collection of rules (e.g., a Chinese phrasebook, with questions and matching answers), the computer emulates natural language understanding (or other NLP tasks) by applying those rules to the data it is confronted with.\",\n",
       " 'Up to the 1980s, most natural language processing systems were based on complex sets of hand-written rules.',\n",
       " 'Starting in the late 1980s, however, there was a revolution in natural language processing with the introduction of machine learning algorithms for language processing.',\n",
       " \"This was due to both the steady increase in computational power (see Moore's law) and the gradual lessening of the dominance of Chomskyan theories of linguistics (e.g.\",\n",
       " 'transformational grammar), whose theoretical underpinnings discouraged the sort of corpus linguistics that underlies the machine-learning approach to language processing.',\n",
       " '[6]\\nIn the 2010s, representation learning and deep neural network-style machine learning methods became widespread in natural language processing, due in part to a flurry of results showing that such techniques[7][8] can achieve state-of-the-art results in many natural language tasks, for example in language modeling,[9] parsing,[10][11] and many others.']"
      ]
     },
     "execution_count": 7,
     "metadata": {},
     "output_type": "execute_result"
    }
   ],
   "source": [
    "print(\"# of sentences: \", len(tokens))\n",
    "# This step is called tokenization, and it produces familiar structure, Sentences \n",
    "tokens[:10]"
   ]
  },
  {
   "cell_type": "markdown",
   "metadata": {},
   "source": [
    " #### 2) Word Tokenizing "
   ]
  },
  {
   "cell_type": "code",
   "execution_count": 8,
   "metadata": {
    "scrolled": true
   },
   "outputs": [
    {
     "name": "stdout",
     "output_type": "stream",
     "text": [
      "# of words after word tokenizing:  1492\n",
      "['Natural', 'language', 'processing', '(', 'NLP', ')', 'is', 'a', 'subfield', 'of', 'linguistics', ',', 'computer', 'science', ',', 'and', 'artificial', 'intelligence', 'concerned', 'with', 'the', 'interactions', 'between', 'computers', 'and', 'human', 'language', ',', 'in', 'particular', 'how', 'to', 'program', 'computers', 'to', 'process', 'and', 'analyze', 'large', 'amounts', 'of', 'natural', 'language', 'data', '.', 'Challenges', 'in', 'natural', 'language', 'processing']\n"
     ]
    }
   ],
   "source": [
    "from nltk.tokenize import word_tokenize\n",
    "tokens = word_tokenize(mytext)\n",
    "# we want to break up the string into words and punctuation usong word_tokenization method\n",
    "print(\"# of words after word tokenizing: \", len(tokens))\n",
    "print(tokens[:50])"
   ]
  },
  {
   "cell_type": "markdown",
   "metadata": {},
   "source": [
    "#### 3) Remove the stop words, punctuation, and digit numbers"
   ]
  },
  {
   "cell_type": "code",
   "execution_count": 9,
   "metadata": {},
   "outputs": [
    {
     "name": "stdout",
     "output_type": "stream",
     "text": [
      "# of words after word tokenizing with revoing punctuation:  1320\n",
      "['natural', 'language', 'processing', 'nlp', 'is', 'a', 'subfield', 'of', 'linguistics', 'computer', 'science', 'and', 'artificial', 'intelligence', 'concerned', 'with', 'the', 'interactions', 'between', 'computers', 'and', 'human', 'language', 'in', 'particular', 'how', 'to', 'program', 'computers', 'to', 'process', 'and', 'analyze', 'large', 'amounts', 'of', 'natural', 'language', 'data', 'challenges', 'in', 'natural', 'language', 'processing', 'frequently', 'involve', 'speech', 'recognition', 'natural', 'language']\n"
     ]
    }
   ],
   "source": [
    "from nltk.tokenize import RegexpTokenizer\n",
    "tokenizer = RegexpTokenizer(r'\\w+')\n",
    "regexp_tokens = tokenizer.tokenize(mytext.lower())\n",
    "print(\"# of words after word tokenizing with revoing punctuation: \", len(regexp_tokens))\n",
    "print(regexp_tokens[0:50])"
   ]
  },
  {
   "cell_type": "code",
   "execution_count": 67,
   "metadata": {},
   "outputs": [
    {
     "name": "stdout",
     "output_type": "stream",
     "text": [
      "# of words after word tokenizing with removing punctuation:  1320\n",
      "['natural', 'language', 'processing', 'nlp', 'is', 'a', 'subfield', 'of', 'linguistics', 'computer', 'science', 'and', 'artificial', 'intelligence', 'concerned', 'with', 'the', 'interactions', 'between', 'computers', 'and', 'human', 'language', 'in', 'particular', 'how', 'to', 'program', 'computers', 'to', 'process', 'and', 'analyze', 'large', 'amounts', 'of', 'natural', 'language', 'data', 'challenges', 'in', 'natural', 'language', 'processing', 'frequently', 'involve', 'speech', 'recognition', 'natural', 'language']\n"
     ]
    }
   ],
   "source": [
    "# removing the punctuation from the text documents\n",
    "from nltk.tokenize import RegexpTokenizer\n",
    "tokenizer = RegexpTokenizer(r'\\w+')\n",
    "regexp_tokens = tokenizer.tokenize(mytext.lower())\n",
    "print(\"# of words after word tokenizing with removing punctuation: \", len(regexp_tokens))\n",
    "print(regexp_tokens[0:50])"
   ]
  },
  {
   "cell_type": "code",
   "execution_count": 10,
   "metadata": {},
   "outputs": [
    {
     "name": "stderr",
     "output_type": "stream",
     "text": [
      "[nltk_data] Downloading package stopwords to\n",
      "[nltk_data]     C:\\Users\\skura\\AppData\\Roaming\\nltk_data...\n",
      "[nltk_data]   Package stopwords is already up-to-date!\n"
     ]
    },
    {
     "data": {
      "text/plain": [
       "True"
      ]
     },
     "execution_count": 10,
     "metadata": {},
     "output_type": "execute_result"
    }
   ],
   "source": [
    "nltk.download('stopwords')"
   ]
  },
  {
   "cell_type": "code",
   "execution_count": 11,
   "metadata": {},
   "outputs": [
    {
     "name": "stdout",
     "output_type": "stream",
     "text": [
      "# of words without stop words:  806\n",
      "['natural', 'language', 'processing', 'nlp', 'subfield', 'linguistics', 'computer', 'science', 'artificial', 'intelligence', 'concerned', 'interactions', 'computers', 'human', 'language', 'particular', 'program', 'computers', 'process', 'analyze', 'large', 'amounts', 'natural', 'language', 'data', 'challenges', 'natural', 'language', 'processing', 'frequently', 'involve', 'speech', 'recognition', 'natural', 'language', 'understanding', 'natural', 'language', 'generation', 'natural', 'language', 'processing', 'roots', '1950s', 'already', '1950', 'alan', 'turing', 'published', 'article']\n"
     ]
    }
   ],
   "source": [
    "from nltk.corpus import stopwords\n",
    "stopwords_tokens = [token for token in regexp_tokens if token not in stopwords.words('english')]\n",
    "print(\"# of words without stop words: \", len(stopwords_tokens))\n",
    "print(stopwords_tokens[0:50])"
   ]
  },
  {
   "cell_type": "code",
   "execution_count": 13,
   "metadata": {},
   "outputs": [
    {
     "name": "stdout",
     "output_type": "stream",
     "text": [
      "# of words without digits:  779\n",
      "['natural', 'language', 'processing', 'nlp', 'subfield', 'linguistics', 'computer', 'science', 'artificial', 'intelligence', 'concerned', 'interactions', 'computers', 'human', 'language', 'particular', 'program', 'computers', 'process', 'analyze', 'large', 'amounts', 'natural', 'language', 'data', 'challenges', 'natural', 'language', 'processing', 'frequently', 'involve', 'speech', 'recognition', 'natural', 'language', 'understanding', 'natural', 'language', 'generation', 'natural', 'language', 'processing', 'roots', 'already', 'alan', 'turing', 'published', 'article', 'titled', 'computing']\n"
     ]
    }
   ],
   "source": [
    "without_digits=[x for x in stopwords_tokens if not any(c.isdigit() for c in x)]\n",
    "print(\"# of words without digits: \", len(without_digits))\n",
    "print(without_digits[0:50])"
   ]
  },
  {
   "cell_type": "code",
   "execution_count": 34,
   "metadata": {},
   "outputs": [
    {
     "name": "stderr",
     "output_type": "stream",
     "text": [
      "[nltk_data] Downloading package wordnet to\n",
      "[nltk_data]     C:\\Users\\skura\\AppData\\Roaming\\nltk_data...\n",
      "[nltk_data]   Unzipping corpora\\wordnet.zip.\n"
     ]
    },
    {
     "data": {
      "text/plain": [
       "True"
      ]
     },
     "execution_count": 34,
     "metadata": {},
     "output_type": "execute_result"
    }
   ],
   "source": [
    "nltk.download('wordnet')"
   ]
  },
  {
   "cell_type": "markdown",
   "metadata": {},
   "source": [
    "### 3.write a function to lemmatize the words"
   ]
  },
  {
   "cell_type": "code",
   "execution_count": 60,
   "metadata": {
    "scrolled": true
   },
   "outputs": [],
   "source": [
    "from nltk.stem import  WordNetLemmatizer\n",
    "lemmatizer = nltk.WordNetLemmatizer()\n",
    "\n",
    "test_word = [lemmatizer.lemmatize(t) for t in stopwords_tokens]\n",
    "word_lemmatise_verb = [lemmatizer.lemmatize(t,'v') for t in stopwords_tokens]\n",
    "word_lemmatise_noun = [lemmatizer.lemmatize(t,'n') for t in stopwords_tokens]"
   ]
  },
  {
   "cell_type": "code",
   "execution_count": 14,
   "metadata": {},
   "outputs": [
    {
     "name": "stdout",
     "output_type": "stream",
     "text": [
      "words after lemmatization \n",
      "[['natural', 'language', 'processing', 'nlp', 'subfield', 'linguistics', 'computer', 'science', 'artificial', 'intelligence', 'concerned', 'interaction', 'computer', 'human', 'language', 'particular', 'program', 'computer', 'process', 'analyze', 'large', 'amount', 'natural', 'language', 'data', 'challenge', 'natural', 'language', 'processing', 'frequently', 'involve', 'speech', 'recognition', 'natural', 'language', 'understanding', 'natural', 'language', 'generation', 'natural', 'language', 'processing', 'root', 'already', 'alan', 'turing', 'published', 'article', 'titled', 'computing', 'machinery', 'intelligence', 'proposed', 'called', 'turing', 'test', 'criterion', 'intelligence', 'task', 'involves', 'automated', 'interpretation', 'generation', 'natural', 'language', 'time', 'articulated', 'problem', 'separate', 'artificial', 'intelligence', 'premise', 'symbolic', 'nlp', 'well', 'summarized', 'john', 'searle', 'chinese', 'room', 'experiment', 'given', 'collection', 'rule', 'e', 'g', 'chinese', 'phrasebook', 'question', 'matching', 'answer', 'computer', 'emulates', 'natural', 'language', 'understanding', 'nlp', 'task', 'applying', 'rule', 'data', 'confronted', 'natural', 'language', 'processing', 'system', 'based', 'complex', 'set', 'hand', 'written', 'rule', 'starting', 'late', 'however', 'revolution', 'natural', 'language', 'processing', 'introduction', 'machine', 'learning', 'algorithm', 'language', 'processing', 'due', 'steady', 'increase', 'computational', 'power', 'see', 'moore', 'law', 'gradual', 'lessening', 'dominance', 'chomskyan', 'theory', 'linguistics', 'e', 'g', 'transformational', 'grammar', 'whose', 'theoretical', 'underpinnings', 'discouraged', 'sort', 'corpus', 'linguistics', 'underlies', 'machine', 'learning', 'approach', 'language', 'processing', 'representation', 'learning', 'deep', 'neural', 'network', 'style', 'machine', 'learning', 'method', 'became', 'widespread', 'natural', 'language', 'processing', 'due', 'part', 'flurry', 'result', 'showing', 'technique', 'achieve', 'state', 'art', 'result', 'many', 'natural', 'language', 'task', 'example', 'language', 'modeling', 'parsing', 'many', 'others', 'early', 'day', 'many', 'language', 'processing', 'system', 'designed', 'symbolic', 'method', 'e', 'hand', 'coding', 'set', 'rule', 'coupled', 'dictionary', 'lookup', 'writing', 'grammar', 'devising', 'heuristic', 'rule', 'stemming', 'recent', 'system', 'based', 'machine', 'learning', 'algorithm', 'many', 'advantage', 'hand', 'produced', 'rule', 'despite', 'popularity', 'machine', 'learning', 'nlp', 'research', 'symbolic', 'method', 'still', 'commonly', 'used', 'since', 'called', 'statistical', 'revolution', 'late', 'mid', 'much', 'natural', 'language', 'processing', 'research', 'relied', 'heavily', 'machine', 'learning', 'machine', 'learning', 'paradigm', 'call', 'instead', 'using', 'statistical', 'inference', 'automatically', 'learn', 'rule', 'analysis', 'large', 'corpus', 'plural', 'form', 'corpus', 'set', 'document', 'possibly', 'human', 'computer', 'annotation', 'typical', 'real', 'world', 'example', 'many', 'different', 'class', 'machine', 'learning', 'algorithm', 'applied', 'natural', 'language', 'processing', 'task', 'algorithm', 'take', 'input', 'large', 'set', 'feature', 'generated', 'input', 'data', 'increasingly', 'however', 'research', 'focused', 'statistical', 'model', 'make', 'soft', 'probabilistic', 'decision', 'based', 'attaching', 'real', 'valued', 'weight', 'input', 'feature', 'model', 'advantage', 'express', 'relative', 'certainty', 'many', 'different', 'possible', 'answer', 'rather', 'one', 'producing', 'reliable', 'result', 'model', 'included', 'component', 'larger', 'system', 'earliest', 'used', 'machine', 'learning', 'algorithm', 'decision', 'tree', 'produced', 'system', 'hard', 'rule', 'similar', 'existing', 'hand', 'written', 'rule', 'however', 'part', 'speech', 'tagging', 'introduced', 'use', 'hidden', 'markov', 'model', 'natural', 'language', 'processing', 'increasingly', 'research', 'focused', 'statistical', 'model', 'make', 'soft', 'probabilistic', 'decision', 'based', 'attaching', 'real', 'valued', 'weight', 'feature', 'making', 'input', 'data', 'cache', 'language', 'model', 'upon', 'many', 'speech', 'recognition', 'system', 'rely', 'example', 'statistical', 'model', 'model', 'generally', 'robust', 'given', 'unfamiliar', 'input', 'especially', 'input', 'contains', 'error', 'common', 'real', 'world', 'data', 'produce', 'reliable', 'result', 'integrated', 'larger', 'system', 'comprising', 'multiple', 'subtasks', 'since', 'neural', 'turn', 'statistical', 'method', 'nlp', 'research', 'largely', 'replaced', 'neural', 'network', 'however', 'continue', 'relevant', 'context', 'statistical', 'interpretability', 'transparency', 'required', 'major', 'drawback', 'statistical', 'method', 'require', 'elaborate', 'feature', 'engineering', 'since', 'early', 'field', 'thus', 'largely', 'abandoned', 'statistical', 'method', 'shifted', 'neural', 'network', 'machine', 'learning', 'popular', 'technique', 'include', 'use', 'word', 'embeddings', 'capture', 'semantic', 'property', 'word', 'increase', 'end', 'end', 'learning', 'higher', 'level', 'task', 'e', 'g', 'question', 'answering', 'instead', 'relying', 'pipeline', 'separate', 'intermediate', 'task', 'e', 'g', 'part', 'speech', 'tagging', 'dependency', 'parsing', 'area', 'shift', 'entailed', 'substantial', 'change', 'nlp', 'system', 'designed', 'deep', 'neural', 'network', 'based', 'approach', 'may', 'viewed', 'new', 'paradigm', 'distinct', 'statistical', 'natural', 'language', 'processing', 'instance', 'term', 'neural', 'machine', 'translation', 'nmt', 'emphasizes', 'fact', 'deep', 'learning', 'based', 'approach', 'machine', 'translation', 'directly', 'learn', 'sequence', 'sequence', 'transformation', 'obviating', 'need', 'intermediate', 'step', 'word', 'alignment', 'language', 'modeling', 'used', 'statistical', 'machine', 'translation', 'smt', 'following', 'list', 'commonly', 'researched', 'task', 'natural', 'language', 'processing', 'task', 'direct', 'real', 'world', 'application', 'others', 'commonly', 'serve', 'subtasks', 'used', 'aid', 'solving', 'larger', 'task', 'though', 'natural', 'language', 'processing', 'task', 'closely', 'intertwined', 'subdivided', 'category', 'convenience', 'coarse', 'division', 'given', 'cognition', 'refers', 'mental', 'action', 'process', 'acquiring', 'knowledge', 'understanding', 'thought', 'experience', 'sens', 'cognitive', 'science', 'interdisciplinary', 'scientific', 'study', 'mind', 'process', 'cognitive', 'linguistics', 'interdisciplinary', 'branch', 'linguistics', 'combining', 'knowledge', 'research', 'psychology', 'linguistics', 'george', 'lakoff', 'offer', 'methodology', 'build', 'natural', 'language', 'processing', 'nlp', 'algorithm', 'perspective', 'cognitive', 'science', 'along', 'finding', 'cognitive', 'linguistics', 'first', 'defining', 'aspect', 'cognitive', 'task', 'nlp', 'application', 'theory', 'conceptual', 'metaphor', 'explained', 'lakoff', 'understanding', 'one', 'idea', 'term', 'another', 'provides', 'idea', 'intent', 'author', 'example', 'consider', 'meaning', 'english', 'word', 'big', 'used', 'comparative', 'big', 'tree', 'likely', 'inference', 'intent', 'author', 'author', 'using', 'word', 'big', 'imply', 'statement', 'tree', 'physically', 'large', 'comparison', 'tree', 'author', 'experience', 'used', 'stative', 'verb', 'tomorrow', 'big', 'day', 'likely', 'inference', 'author', 'intent', 'big', 'used', 'imply', 'importance', 'example', 'presented', 'complete', 'merely', 'indicator', 'implication', 'idea', 'conceptual', 'metaphor', 'intent', 'behind', 'usage', 'like', 'big', 'person', 'remain', 'somewhat', 'ambiguous', 'person', 'cognitive', 'nlp', 'algorithm', 'alike', 'without', 'additional', 'information', 'lead', 'second', 'defining', 'aspect', 'cognitive', 'task', 'nlp', 'namely', 'probabilistic', 'context', 'free', 'grammar', 'pcfg', 'enables', 'cognitive', 'nlp', 'algorithm', 'assign', 'relative', 'measure', 'meaning', 'word', 'phrase', 'sentence', 'piece', 'text', 'based', 'information', 'presented', 'piece', 'text', 'analyzed', 'mathematical', 'equation', 'algorithm', 'presented', 'u', 'patent', 'rmm', 'relative', 'measure', 'meaning', 'token', 'block', 'text', 'sentence', 'phrase', 'word', 'n', 'number', 'token', 'analyzed', 'pmm', 'probable', 'measure', 'meaning', 'based', 'corpus', 'location', 'token', 'along', 'sequence', 'n', 'token', 'pf', 'probability', 'function', 'specific', 'language']]\n"
     ]
    }
   ],
   "source": [
    "from nltk.stem.wordnet import WordNetLemmatizer\n",
    "from nltk import word_tokenize\n",
    "sents = ['i like cars', 'cats are the best']\n",
    "lmtzr = WordNetLemmatizer()\n",
    "lemmatized = [[lmtzr.lemmatize(word) for word in without_digits]]\n",
    "print(\"words after lemmatization \")\n",
    "print(lemmatized[0:50])"
   ]
  },
  {
   "cell_type": "code",
   "execution_count": 61,
   "metadata": {
    "scrolled": false
   },
   "outputs": [
    {
     "name": "stdout",
     "output_type": "stream",
     "text": [
      "['natural', 'language', 'processing', 'nlp', 'subfield', 'linguistics', 'computer', 'science', 'artificial', 'intelligence', 'concerned', 'interaction', 'computer', 'human', 'language', 'particular', 'program', 'computer', 'process', 'analyze', 'large', 'amount', 'natural', 'language', 'data', 'challenge', 'natural', 'language', 'processing', 'frequently', 'involve', 'speech', 'recognition', 'natural', 'language', 'understanding', 'natural', 'language', 'generation', 'natural', 'language', 'processing', 'root', 'already', 'alan', 'turing', 'published', 'article', 'titled', 'computing', 'machinery', 'intelligence', 'proposed', 'called', 'turing', 'test', 'criterion', 'intelligence', 'task', 'involves', 'automated', 'interpretation', 'generation', 'natural', 'language', 'time', 'articulated', 'problem', 'separate', 'artificial', 'intelligence', 'premise', 'symbolic', 'nlp', 'well', 'summarized', 'john', 'searle', 'chinese', 'room', 'experiment', 'given', 'collection', 'rule', 'e', 'g', 'chinese', 'phrasebook', 'question', 'matching', 'answer', 'computer', 'emulates', 'natural', 'language', 'understanding', 'nlp', 'task', 'applying', 'rule', 'data', 'confronted', 'natural', 'language', 'processing', 'system', 'based', 'complex', 'set', 'hand', 'written', 'rule', 'starting', 'late', 'however', 'revolution', 'natural', 'language', 'processing', 'introduction', 'machine', 'learning', 'algorithm', 'language', 'processing', 'due', 'steady', 'increase', 'computational', 'power', 'see', 'moore', 'law', 'gradual', 'lessening', 'dominance', 'chomskyan', 'theory', 'linguistics', 'e', 'g', 'transformational', 'grammar', 'whose', 'theoretical', 'underpinnings', 'discouraged', 'sort', 'corpus', 'linguistics', 'underlies', 'machine', 'learning', 'approach', 'language', 'processing', 'representation', 'learning', 'deep', 'neural', 'network', 'style', 'machine', 'learning', 'method', 'became', 'widespread', 'natural', 'language', 'processing', 'due', 'part', 'flurry', 'result', 'showing', 'technique', 'achieve', 'state', 'art', 'result', 'many', 'natural', 'language', 'task', 'example', 'language', 'modeling', 'parsing', 'many', 'others', 'early', 'day', 'many', 'language', 'processing', 'system', 'designed', 'symbolic', 'method', 'e', 'hand', 'coding', 'set', 'rule', 'coupled', 'dictionary', 'lookup', 'writing', 'grammar', 'devising', 'heuristic', 'rule', 'stemming', 'recent', 'system', 'based', 'machine', 'learning', 'algorithm', 'many', 'advantage', 'hand', 'produced', 'rule', 'despite', 'popularity', 'machine', 'learning', 'nlp', 'research', 'symbolic', 'method', 'still', 'commonly', 'used', 'since', 'called', 'statistical', 'revolution', 'late', 'mid', 'much', 'natural', 'language', 'processing', 'research', 'relied', 'heavily', 'machine', 'learning', 'machine', 'learning', 'paradigm', 'call', 'instead', 'using', 'statistical', 'inference', 'automatically', 'learn', 'rule', 'analysis', 'large', 'corpus', 'plural', 'form', 'corpus', 'set', 'document', 'possibly', 'human', 'computer', 'annotation', 'typical', 'real', 'world', 'example', 'many', 'different', 'class', 'machine', 'learning', 'algorithm', 'applied', 'natural', 'language', 'processing', 'task', 'algorithm', 'take', 'input', 'large', 'set', 'feature', 'generated', 'input', 'data', 'increasingly', 'however', 'research', 'focused', 'statistical', 'model', 'make', 'soft', 'probabilistic', 'decision', 'based', 'attaching', 'real', 'valued', 'weight', 'input', 'feature', 'model', 'advantage', 'express', 'relative', 'certainty', 'many', 'different', 'possible', 'answer', 'rather', 'one', 'producing', 'reliable', 'result', 'model', 'included', 'component', 'larger', 'system', 'earliest', 'used', 'machine', 'learning', 'algorithm', 'decision', 'tree', 'produced', 'system', 'hard', 'rule', 'similar', 'existing', 'hand', 'written', 'rule', 'however', 'part', 'speech', 'tagging', 'introduced', 'use', 'hidden', 'markov', 'model', 'natural', 'language', 'processing', 'increasingly', 'research', 'focused', 'statistical', 'model', 'make', 'soft', 'probabilistic', 'decision', 'based', 'attaching', 'real', 'valued', 'weight', 'feature', 'making', 'input', 'data', 'cache', 'language', 'model', 'upon', 'many', 'speech', 'recognition', 'system', 'rely', 'example', 'statistical', 'model', 'model', 'generally', 'robust', 'given', 'unfamiliar', 'input', 'especially', 'input', 'contains', 'error', 'common', 'real', 'world', 'data', 'produce', 'reliable', 'result', 'integrated', 'larger', 'system', 'comprising', 'multiple', 'subtasks', 'since', 'neural', 'turn', 'statistical', 'method', 'nlp', 'research', 'largely', 'replaced', 'neural', 'network', 'however', 'continue', 'relevant', 'context', 'statistical', 'interpretability', 'transparency', 'required', 'major', 'drawback', 'statistical', 'method', 'require', 'elaborate', 'feature', 'engineering', 'since', 'early', 'field', 'thus', 'largely', 'abandoned', 'statistical', 'method', 'shifted', 'neural', 'network', 'machine', 'learning', 'popular', 'technique', 'include', 'use', 'word', 'embeddings', 'capture', 'semantic', 'property', 'word', 'increase', 'end', 'end', 'learning', 'higher', 'level', 'task', 'e', 'g', 'question', 'answering', 'instead', 'relying', 'pipeline', 'separate', 'intermediate', 'task', 'e', 'g', 'part', 'speech', 'tagging', 'dependency', 'parsing', 'area', 'shift', 'entailed', 'substantial', 'change', 'nlp', 'system', 'designed', 'deep', 'neural', 'network', 'based', 'approach', 'may', 'viewed', 'new', 'paradigm', 'distinct', 'statistical', 'natural', 'language', 'processing', 'instance', 'term', 'neural', 'machine', 'translation', 'nmt', 'emphasizes', 'fact', 'deep', 'learning', 'based', 'approach', 'machine', 'translation', 'directly', 'learn', 'sequence', 'sequence', 'transformation', 'obviating', 'need', 'intermediate', 'step', 'word', 'alignment', 'language', 'modeling', 'used', 'statistical', 'machine', 'translation', 'smt', 'following', 'list', 'commonly', 'researched', 'task', 'natural', 'language', 'processing', 'task', 'direct', 'real', 'world', 'application', 'others', 'commonly', 'serve', 'subtasks', 'used', 'aid', 'solving', 'larger', 'task', 'though', 'natural', 'language', 'processing', 'task', 'closely', 'intertwined', 'subdivided', 'category', 'convenience', 'coarse', 'division', 'given', 'cognition', 'refers', 'mental', 'action', 'process', 'acquiring', 'knowledge', 'understanding', 'thought', 'experience', 'sens', 'cognitive', 'science', 'interdisciplinary', 'scientific', 'study', 'mind', 'process', 'cognitive', 'linguistics', 'interdisciplinary', 'branch', 'linguistics', 'combining', 'knowledge', 'research', 'psychology', 'linguistics', 'george', 'lakoff', 'offer', 'methodology', 'build', 'natural', 'language', 'processing', 'nlp', 'algorithm', 'perspective', 'cognitive', 'science', 'along', 'finding', 'cognitive', 'linguistics', 'first', 'defining', 'aspect', 'cognitive', 'task', 'nlp', 'application', 'theory', 'conceptual', 'metaphor', 'explained', 'lakoff', 'understanding', 'one', 'idea', 'term', 'another', 'provides', 'idea', 'intent', 'author', 'example', 'consider', 'meaning', 'english', 'word', 'big', 'used', 'comparative', 'big', 'tree', 'likely', 'inference', 'intent', 'author', 'author', 'using', 'word', 'big', 'imply', 'statement', 'tree', 'physically', 'large', 'comparison', 'tree', 'author', 'experience', 'used', 'stative', 'verb', 'tomorrow', 'big', 'day', 'likely', 'inference', 'author', 'intent', 'big', 'used', 'imply', 'importance', 'example', 'presented', 'complete', 'merely', 'indicator', 'implication', 'idea', 'conceptual', 'metaphor', 'intent', 'behind', 'usage', 'like', 'big', 'person', 'remain', 'somewhat', 'ambiguous', 'person', 'cognitive', 'nlp', 'algorithm', 'alike', 'without', 'additional', 'information', 'lead', 'second', 'defining', 'aspect', 'cognitive', 'task', 'nlp', 'namely', 'probabilistic', 'context', 'free', 'grammar', 'pcfg', 'enables', 'cognitive', 'nlp', 'algorithm', 'assign', 'relative', 'measure', 'meaning', 'word', 'phrase', 'sentence', 'piece', 'text', 'based', 'information', 'presented', 'piece', 'text', 'analyzed', 'mathematical', 'equation', 'algorithm', 'presented', 'u', 'patent', 'rmm', 'relative', 'measure', 'meaning', 'token', 'block', 'text', 'sentence', 'phrase', 'word', 'n', 'number', 'token', 'analyzed', 'pmm', 'probable', 'measure', 'meaning', 'based', 'corpus', 'location', 'token', 'along', 'sequence', 'n', 'token', 'pf', 'probability', 'function', 'specific', 'language']\n"
     ]
    }
   ],
   "source": [
    "# prints only with pos tag as noun\n",
    "print( word_lemmatise_noun)"
   ]
  },
  {
   "cell_type": "code",
   "execution_count": 63,
   "metadata": {
    "scrolled": true
   },
   "outputs": [
    {
     "name": "stdout",
     "output_type": "stream",
     "text": [
      "['natural', 'language', 'process', 'nlp', 'subfield', 'linguistics', 'computer', 'science', 'artificial', 'intelligence', 'concern', 'interactions', 'computers', 'human', 'language', 'particular', 'program', 'computers', 'process', 'analyze', 'large', 'amount', 'natural', 'language', 'data', 'challenge', 'natural', 'language', 'process', 'frequently', 'involve', 'speech', 'recognition', 'natural', 'language', 'understand', 'natural', 'language', 'generation', 'natural', 'language', 'process', 'root', 'already', 'alan', 'turing', 'publish', 'article', 'title', 'compute', 'machinery', 'intelligence', 'propose', 'call', 'turing', 'test', 'criterion', 'intelligence', 'task', 'involve', 'automate', 'interpretation', 'generation', 'natural', 'language', 'time', 'articulate', 'problem', 'separate', 'artificial', 'intelligence', 'premise', 'symbolic', 'nlp', 'well', 'summarize', 'john', 'searle', 'chinese', 'room', 'experiment', 'give', 'collection', 'rule', 'e', 'g', 'chinese', 'phrasebook', 'question', 'match', 'answer', 'computer', 'emulate', 'natural', 'language', 'understand', 'nlp', 'task', 'apply', 'rule', 'data', 'confront', 'natural', 'language', 'process', 'systems', 'base', 'complex', 'set', 'hand', 'write', 'rule', 'start', 'late', 'however', 'revolution', 'natural', 'language', 'process', 'introduction', 'machine', 'learn', 'algorithms', 'language', 'process', 'due', 'steady', 'increase', 'computational', 'power', 'see', 'moore', 'law', 'gradual', 'lessen', 'dominance', 'chomskyan', 'theories', 'linguistics', 'e', 'g', 'transformational', 'grammar', 'whose', 'theoretical', 'underpinnings', 'discourage', 'sort', 'corpus', 'linguistics', 'underlie', 'machine', 'learn', 'approach', 'language', 'process', 'representation', 'learn', 'deep', 'neural', 'network', 'style', 'machine', 'learn', 'methods', 'become', 'widespread', 'natural', 'language', 'process', 'due', 'part', 'flurry', 'result', 'show', 'techniques', 'achieve', 'state', 'art', 'result', 'many', 'natural', 'language', 'task', 'example', 'language', 'model', 'parse', 'many', 'others', 'early', 'days', 'many', 'language', 'process', 'systems', 'design', 'symbolic', 'methods', 'e', 'hand', 'cod', 'set', 'rule', 'couple', 'dictionary', 'lookup', 'write', 'grammars', 'devise', 'heuristic', 'rule', 'stem', 'recent', 'systems', 'base', 'machine', 'learn', 'algorithms', 'many', 'advantage', 'hand', 'produce', 'rule', 'despite', 'popularity', 'machine', 'learn', 'nlp', 'research', 'symbolic', 'methods', 'still', 'commonly', 'use', 'since', 'call', 'statistical', 'revolution', 'late', 'mid', 'much', 'natural', 'language', 'process', 'research', 'rely', 'heavily', 'machine', 'learn', 'machine', 'learn', 'paradigm', 'call', 'instead', 'use', 'statistical', 'inference', 'automatically', 'learn', 'rule', 'analysis', 'large', 'corpora', 'plural', 'form', 'corpus', 'set', 'document', 'possibly', 'human', 'computer', 'annotations', 'typical', 'real', 'world', 'examples', 'many', 'different', 'class', 'machine', 'learn', 'algorithms', 'apply', 'natural', 'language', 'process', 'task', 'algorithms', 'take', 'input', 'large', 'set', 'feature', 'generate', 'input', 'data', 'increasingly', 'however', 'research', 'focus', 'statistical', 'model', 'make', 'soft', 'probabilistic', 'decisions', 'base', 'attach', 'real', 'value', 'weight', 'input', 'feature', 'model', 'advantage', 'express', 'relative', 'certainty', 'many', 'different', 'possible', 'answer', 'rather', 'one', 'produce', 'reliable', 'result', 'model', 'include', 'component', 'larger', 'system', 'earliest', 'use', 'machine', 'learn', 'algorithms', 'decision', 'tree', 'produce', 'systems', 'hard', 'rule', 'similar', 'exist', 'hand', 'write', 'rule', 'however', 'part', 'speech', 'tag', 'introduce', 'use', 'hide', 'markov', 'model', 'natural', 'language', 'process', 'increasingly', 'research', 'focus', 'statistical', 'model', 'make', 'soft', 'probabilistic', 'decisions', 'base', 'attach', 'real', 'value', 'weight', 'feature', 'make', 'input', 'data', 'cache', 'language', 'model', 'upon', 'many', 'speech', 'recognition', 'systems', 'rely', 'examples', 'statistical', 'model', 'model', 'generally', 'robust', 'give', 'unfamiliar', 'input', 'especially', 'input', 'contain', 'errors', 'common', 'real', 'world', 'data', 'produce', 'reliable', 'result', 'integrate', 'larger', 'system', 'comprise', 'multiple', 'subtasks', 'since', 'neural', 'turn', 'statistical', 'methods', 'nlp', 'research', 'largely', 'replace', 'neural', 'network', 'however', 'continue', 'relevant', 'contexts', 'statistical', 'interpretability', 'transparency', 'require', 'major', 'drawback', 'statistical', 'methods', 'require', 'elaborate', 'feature', 'engineer', 'since', 'early', 'field', 'thus', 'largely', 'abandon', 'statistical', 'methods', 'shift', 'neural', 'network', 'machine', 'learn', 'popular', 'techniques', 'include', 'use', 'word', 'embeddings', 'capture', 'semantic', 'properties', 'word', 'increase', 'end', 'end', 'learn', 'higher', 'level', 'task', 'e', 'g', 'question', 'answer', 'instead', 'rely', 'pipeline', 'separate', 'intermediate', 'task', 'e', 'g', 'part', 'speech', 'tag', 'dependency', 'parse', 'areas', 'shift', 'entail', 'substantial', 'change', 'nlp', 'systems', 'design', 'deep', 'neural', 'network', 'base', 'approach', 'may', 'view', 'new', 'paradigm', 'distinct', 'statistical', 'natural', 'language', 'process', 'instance', 'term', 'neural', 'machine', 'translation', 'nmt', 'emphasize', 'fact', 'deep', 'learn', 'base', 'approach', 'machine', 'translation', 'directly', 'learn', 'sequence', 'sequence', 'transformations', 'obviate', 'need', 'intermediate', 'step', 'word', 'alignment', 'language', 'model', 'use', 'statistical', 'machine', 'translation', 'smt', 'follow', 'list', 'commonly', 'research', 'task', 'natural', 'language', 'process', 'task', 'direct', 'real', 'world', 'applications', 'others', 'commonly', 'serve', 'subtasks', 'use', 'aid', 'solve', 'larger', 'task', 'though', 'natural', 'language', 'process', 'task', 'closely', 'intertwine', 'subdivide', 'categories', 'convenience', 'coarse', 'division', 'give', 'cognition', 'refer', 'mental', 'action', 'process', 'acquire', 'knowledge', 'understand', 'think', 'experience', 'sense', 'cognitive', 'science', 'interdisciplinary', 'scientific', 'study', 'mind', 'process', 'cognitive', 'linguistics', 'interdisciplinary', 'branch', 'linguistics', 'combine', 'knowledge', 'research', 'psychology', 'linguistics', 'george', 'lakoff', 'offer', 'methodology', 'build', 'natural', 'language', 'process', 'nlp', 'algorithms', 'perspective', 'cognitive', 'science', 'along', 'find', 'cognitive', 'linguistics', 'first', 'define', 'aspect', 'cognitive', 'task', 'nlp', 'application', 'theory', 'conceptual', 'metaphor', 'explain', 'lakoff', 'understand', 'one', 'idea', 'term', 'another', 'provide', 'idea', 'intent', 'author', 'example', 'consider', 'mean', 'english', 'word', 'big', 'use', 'comparative', 'big', 'tree', 'likely', 'inference', 'intent', 'author', 'author', 'use', 'word', 'big', 'imply', 'statement', 'tree', 'physically', 'large', 'comparison', 'tree', 'author', 'experience', 'use', 'stative', 'verb', 'tomorrow', 'big', 'day', 'likely', 'inference', 'author', 'intent', 'big', 'use', 'imply', 'importance', 'examples', 'present', 'complete', 'merely', 'indicators', 'implication', 'idea', 'conceptual', 'metaphor', 'intent', 'behind', 'usages', 'like', 'big', 'person', 'remain', 'somewhat', 'ambiguous', 'person', 'cognitive', 'nlp', 'algorithm', 'alike', 'without', 'additional', 'information', 'lead', 'second', 'define', 'aspect', 'cognitive', 'task', 'nlp', 'namely', 'probabilistic', 'context', 'free', 'grammar', 'pcfg', 'enable', 'cognitive', 'nlp', 'algorithms', 'assign', 'relative', 'measure', 'mean', 'word', 'phrase', 'sentence', 'piece', 'text', 'base', 'information', 'present', 'piece', 'text', 'analyze', 'mathematical', 'equation', 'algorithms', 'present', 'us', 'patent', 'rmm', 'relative', 'measure', 'mean', 'token', 'block', 'text', 'sentence', 'phrase', 'word', 'n', 'number', 'tokens', 'analyze', 'pmm', 'probable', 'measure', 'mean', 'base', 'corpora', 'location', 'token', 'along', 'sequence', 'n', 'tokens', 'pf', 'probability', 'function', 'specific']\n"
     ]
    }
   ],
   "source": [
    "# prints only with pos tag as noun\n",
    "print(word_lemmatise_verb[:-1])"
   ]
  },
  {
   "cell_type": "markdown",
   "metadata": {},
   "source": [
    "#### Calculate the word distribution using FreqDist"
   ]
  },
  {
   "cell_type": "code",
   "execution_count": 30,
   "metadata": {},
   "outputs": [
    {
     "name": "stdout",
     "output_type": "stream",
     "text": [
      "<FreqDist with 441 samples and 806 outcomes>\n",
      "[('language', 27), ('natural', 19), ('processing', 16), ('machine', 13), ('learning', 13), ('nlp', 11), ('statistical', 11), ('rules', 9), ('tasks', 8), ('based', 8), ('algorithms', 8), ('cognitive', 8), ('linguistics', 7), ('many', 7), ('used', 7), ('models', 7), ('systems', 6), ('neural', 6), ('methods', 6), ('research', 6)]\n"
     ]
    }
   ],
   "source": [
    "import nltk\n",
    "freq_dist = nltk.FreqDist(stopwords_tokens)\n",
    "print(freq_dist)\n",
    "k = 20\n",
    "print(freq_dist.most_common(k))"
   ]
  },
  {
   "cell_type": "code",
   "execution_count": 31,
   "metadata": {},
   "outputs": [
    {
     "data": {
      "image/png": "[encoded data removed]",
      "text/plain": [
       "<Figure size 432x288 with 1 Axes>"
      ]
     },
     "metadata": {
      "needs_background": "light"
     },
     "output_type": "display_data"
    },
    {
     "data": {
      "text/plain": [
       "<matplotlib.axes._subplots.AxesSubplot at 0x256b450acc0>"
      ]
     },
     "execution_count": 31,
     "metadata": {},
     "output_type": "execute_result"
    }
   ],
   "source": [
    "freq_dist.plot(k)"
   ]
  },
  {
   "cell_type": "code",
   "execution_count": 32,
   "metadata": {},
   "outputs": [
    {
     "name": "stdout",
     "output_type": "stream",
     "text": [
      "language: 27\n",
      "natural: 19\n",
      "processing: 16\n",
      "machine: 13\n",
      "learning: 13\n",
      "nlp: 11\n",
      "statistical: 11\n",
      "rules: 9\n",
      "tasks: 8\n",
      "based: 8\n",
      "algorithms: 8\n",
      "cognitive: 8\n",
      "linguistics: 7\n",
      "many: 7\n",
      "used: 7\n",
      "models: 7\n",
      "systems: 6\n",
      "neural: 6\n",
      "methods: 6\n",
      "research: 6\n"
     ]
    }
   ],
   "source": [
    "for word, frequency in freq_dist.most_common(k):\n",
    "    print(u'{}: {}'.format(word, frequency))"
   ]
  },
  {
   "cell_type": "markdown",
   "metadata": {},
   "source": [
    "**Word-weight frequency calculation, sentence scoring and generating the summary**\n",
    "references:https://www.datacamp.com/community/tutorials/absolute-weighted-word-frequency"
   ]
  },
  {
   "cell_type": "code",
   "execution_count": 55,
   "metadata": {},
   "outputs": [],
   "source": [
    "from collections import defaultdict\n",
    "import pandas as pd\n",
    "word_freq = defaultdict(int)\n",
    "for text in stopwords_tokens:\n",
    "    for word in text.split():\n",
    "        word_freq[word] += 1\n",
    "\n",
    "word_freq = pd.DataFrame.from_dict(word_freq, orient='index') \\\n",
    ".sort_values(0, ascending=False) \\\n",
    ".rename(columns={0: 'abs_freq'})\n"
   ]
  },
  {
   "cell_type": "code",
   "execution_count": 56,
   "metadata": {},
   "outputs": [
    {
     "data": {
      "text/html": [
       "<div>\n",
       "<style scoped>\n",
       "    .dataframe tbody tr th:only-of-type {\n",
       "        vertical-align: middle;\n",
       "    }\n",
       "\n",
       "    .dataframe tbody tr th {\n",
       "        vertical-align: top;\n",
       "    }\n",
       "\n",
       "    .dataframe thead th {\n",
       "        text-align: right;\n",
       "    }\n",
       "</style>\n",
       "<table border=\"1\" class=\"dataframe\">\n",
       "  <thead>\n",
       "    <tr style=\"text-align: right;\">\n",
       "      <th></th>\n",
       "      <th>abs_freq</th>\n",
       "    </tr>\n",
       "  </thead>\n",
       "  <tbody>\n",
       "    <tr>\n",
       "      <th>language</th>\n",
       "      <td>27</td>\n",
       "    </tr>\n",
       "    <tr>\n",
       "      <th>natural</th>\n",
       "      <td>19</td>\n",
       "    </tr>\n",
       "    <tr>\n",
       "      <th>processing</th>\n",
       "      <td>16</td>\n",
       "    </tr>\n",
       "    <tr>\n",
       "      <th>machine</th>\n",
       "      <td>13</td>\n",
       "    </tr>\n",
       "    <tr>\n",
       "      <th>learning</th>\n",
       "      <td>13</td>\n",
       "    </tr>\n",
       "    <tr>\n",
       "      <th>nlp</th>\n",
       "      <td>11</td>\n",
       "    </tr>\n",
       "    <tr>\n",
       "      <th>statistical</th>\n",
       "      <td>11</td>\n",
       "    </tr>\n",
       "    <tr>\n",
       "      <th>rules</th>\n",
       "      <td>9</td>\n",
       "    </tr>\n",
       "    <tr>\n",
       "      <th>based</th>\n",
       "      <td>8</td>\n",
       "    </tr>\n",
       "    <tr>\n",
       "      <th>algorithms</th>\n",
       "      <td>8</td>\n",
       "    </tr>\n",
       "    <tr>\n",
       "      <th>tasks</th>\n",
       "      <td>8</td>\n",
       "    </tr>\n",
       "    <tr>\n",
       "      <th>cognitive</th>\n",
       "      <td>8</td>\n",
       "    </tr>\n",
       "    <tr>\n",
       "      <th>used</th>\n",
       "      <td>7</td>\n",
       "    </tr>\n",
       "    <tr>\n",
       "      <th>many</th>\n",
       "      <td>7</td>\n",
       "    </tr>\n",
       "    <tr>\n",
       "      <th>models</th>\n",
       "      <td>7</td>\n",
       "    </tr>\n",
       "    <tr>\n",
       "      <th>linguistics</th>\n",
       "      <td>7</td>\n",
       "    </tr>\n",
       "    <tr>\n",
       "      <th>methods</th>\n",
       "      <td>6</td>\n",
       "    </tr>\n",
       "    <tr>\n",
       "      <th>neural</th>\n",
       "      <td>6</td>\n",
       "    </tr>\n",
       "    <tr>\n",
       "      <th>big</th>\n",
       "      <td>6</td>\n",
       "    </tr>\n",
       "    <tr>\n",
       "      <th>input</th>\n",
       "      <td>6</td>\n",
       "    </tr>\n",
       "    <tr>\n",
       "      <th>systems</th>\n",
       "      <td>6</td>\n",
       "    </tr>\n",
       "    <tr>\n",
       "      <th>research</th>\n",
       "      <td>6</td>\n",
       "    </tr>\n",
       "    <tr>\n",
       "      <th>word</th>\n",
       "      <td>6</td>\n",
       "    </tr>\n",
       "    <tr>\n",
       "      <th>real</th>\n",
       "      <td>5</td>\n",
       "    </tr>\n",
       "    <tr>\n",
       "      <th>data</th>\n",
       "      <td>5</td>\n",
       "    </tr>\n",
       "    <tr>\n",
       "      <th>e</th>\n",
       "      <td>5</td>\n",
       "    </tr>\n",
       "    <tr>\n",
       "      <th>speech</th>\n",
       "      <td>4</td>\n",
       "    </tr>\n",
       "    <tr>\n",
       "      <th>hand</th>\n",
       "      <td>4</td>\n",
       "    </tr>\n",
       "    <tr>\n",
       "      <th>intelligence</th>\n",
       "      <td>4</td>\n",
       "    </tr>\n",
       "    <tr>\n",
       "      <th>g</th>\n",
       "      <td>4</td>\n",
       "    </tr>\n",
       "    <tr>\n",
       "      <th>...</th>\n",
       "      <td>...</td>\n",
       "    </tr>\n",
       "    <tr>\n",
       "      <th>recent</th>\n",
       "      <td>1</td>\n",
       "    </tr>\n",
       "    <tr>\n",
       "      <th>stemming</th>\n",
       "      <td>1</td>\n",
       "    </tr>\n",
       "    <tr>\n",
       "      <th>heuristic</th>\n",
       "      <td>1</td>\n",
       "    </tr>\n",
       "    <tr>\n",
       "      <th>devising</th>\n",
       "      <td>1</td>\n",
       "    </tr>\n",
       "    <tr>\n",
       "      <th>grammars</th>\n",
       "      <td>1</td>\n",
       "    </tr>\n",
       "    <tr>\n",
       "      <th>writing</th>\n",
       "      <td>1</td>\n",
       "    </tr>\n",
       "    <tr>\n",
       "      <th>13</th>\n",
       "      <td>1</td>\n",
       "    </tr>\n",
       "    <tr>\n",
       "      <th>12</th>\n",
       "      <td>1</td>\n",
       "    </tr>\n",
       "    <tr>\n",
       "      <th>much</th>\n",
       "      <td>1</td>\n",
       "    </tr>\n",
       "    <tr>\n",
       "      <th>heavily</th>\n",
       "      <td>1</td>\n",
       "    </tr>\n",
       "    <tr>\n",
       "      <th>producing</th>\n",
       "      <td>1</td>\n",
       "    </tr>\n",
       "    <tr>\n",
       "      <th>calls</th>\n",
       "      <td>1</td>\n",
       "    </tr>\n",
       "    <tr>\n",
       "      <th>rather</th>\n",
       "      <td>1</td>\n",
       "    </tr>\n",
       "    <tr>\n",
       "      <th>possible</th>\n",
       "      <td>1</td>\n",
       "    </tr>\n",
       "    <tr>\n",
       "      <th>certainty</th>\n",
       "      <td>1</td>\n",
       "    </tr>\n",
       "    <tr>\n",
       "      <th>express</th>\n",
       "      <td>1</td>\n",
       "    </tr>\n",
       "    <tr>\n",
       "      <th>advantage</th>\n",
       "      <td>1</td>\n",
       "    </tr>\n",
       "    <tr>\n",
       "      <th>generated</th>\n",
       "      <td>1</td>\n",
       "    </tr>\n",
       "    <tr>\n",
       "      <th>take</th>\n",
       "      <td>1</td>\n",
       "    </tr>\n",
       "    <tr>\n",
       "      <th>applied</th>\n",
       "      <td>1</td>\n",
       "    </tr>\n",
       "    <tr>\n",
       "      <th>classes</th>\n",
       "      <td>1</td>\n",
       "    </tr>\n",
       "    <tr>\n",
       "      <th>typical</th>\n",
       "      <td>1</td>\n",
       "    </tr>\n",
       "    <tr>\n",
       "      <th>annotations</th>\n",
       "      <td>1</td>\n",
       "    </tr>\n",
       "    <tr>\n",
       "      <th>possibly</th>\n",
       "      <td>1</td>\n",
       "    </tr>\n",
       "    <tr>\n",
       "      <th>documents</th>\n",
       "      <td>1</td>\n",
       "    </tr>\n",
       "    <tr>\n",
       "      <th>form</th>\n",
       "      <td>1</td>\n",
       "    </tr>\n",
       "    <tr>\n",
       "      <th>plural</th>\n",
       "      <td>1</td>\n",
       "    </tr>\n",
       "    <tr>\n",
       "      <th>analysis</th>\n",
       "      <td>1</td>\n",
       "    </tr>\n",
       "    <tr>\n",
       "      <th>automatically</th>\n",
       "      <td>1</td>\n",
       "    </tr>\n",
       "    <tr>\n",
       "      <th>specific</th>\n",
       "      <td>1</td>\n",
       "    </tr>\n",
       "  </tbody>\n",
       "</table>\n",
       "<p>441 rows × 1 columns</p>\n",
       "</div>"
      ],
      "text/plain": [
       "               abs_freq\n",
       "language             27\n",
       "natural              19\n",
       "processing           16\n",
       "machine              13\n",
       "learning             13\n",
       "nlp                  11\n",
       "statistical          11\n",
       "rules                 9\n",
       "based                 8\n",
       "algorithms            8\n",
       "tasks                 8\n",
       "cognitive             8\n",
       "used                  7\n",
       "many                  7\n",
       "models                7\n",
       "linguistics           7\n",
       "methods               6\n",
       "neural                6\n",
       "big                   6\n",
       "input                 6\n",
       "systems               6\n",
       "research              6\n",
       "word                  6\n",
       "real                  5\n",
       "data                  5\n",
       "e                     5\n",
       "speech                4\n",
       "hand                  4\n",
       "intelligence          4\n",
       "g                     4\n",
       "...                 ...\n",
       "recent                1\n",
       "stemming              1\n",
       "heuristic             1\n",
       "devising              1\n",
       "grammars              1\n",
       "writing               1\n",
       "13                    1\n",
       "12                    1\n",
       "much                  1\n",
       "heavily               1\n",
       "producing             1\n",
       "calls                 1\n",
       "rather                1\n",
       "possible              1\n",
       "certainty             1\n",
       "express               1\n",
       "advantage             1\n",
       "generated             1\n",
       "take                  1\n",
       "applied               1\n",
       "classes               1\n",
       "typical               1\n",
       "annotations           1\n",
       "possibly              1\n",
       "documents             1\n",
       "form                  1\n",
       "plural                1\n",
       "analysis              1\n",
       "automatically         1\n",
       "specific              1\n",
       "\n",
       "[441 rows x 1 columns]"
      ]
     },
     "execution_count": 56,
     "metadata": {},
     "output_type": "execute_result"
    }
   ],
   "source": [
    "word_freq"
   ]
  },
  {
   "cell_type": "code",
   "execution_count": 57,
   "metadata": {},
   "outputs": [
    {
     "data": {
      "text/plain": [
       "{'natural': 0.0236,\n",
       " 'language': 0.0335,\n",
       " 'processing': 0.0199,\n",
       " 'nlp': 0.0136,\n",
       " 'subfield': 0.0012,\n",
       " 'linguistics': 0.0087,\n",
       " 'computer': 0.0037,\n",
       " 'science': 0.0037,\n",
       " 'artificial': 0.0025,\n",
       " 'intelligence': 0.005,\n",
       " 'concerned': 0.0012,\n",
       " 'interactions': 0.0012,\n",
       " 'computers': 0.0025,\n",
       " 'human': 0.0025,\n",
       " 'particular': 0.0012,\n",
       " 'program': 0.0012,\n",
       " 'process': 0.0025,\n",
       " 'analyze': 0.0012,\n",
       " 'large': 0.005,\n",
       " 'amounts': 0.0012,\n",
       " 'data': 0.0062,\n",
       " 'challenges': 0.0012,\n",
       " 'frequently': 0.0012,\n",
       " 'involve': 0.0012,\n",
       " 'speech': 0.005,\n",
       " 'recognition': 0.0025,\n",
       " 'understanding': 0.005,\n",
       " 'generation': 0.0025,\n",
       " 'roots': 0.0012,\n",
       " '1950s': 0.0012,\n",
       " 'already': 0.0012,\n",
       " '1950': 0.0012,\n",
       " 'alan': 0.0012,\n",
       " 'turing': 0.0025,\n",
       " 'published': 0.0012,\n",
       " 'article': 0.0012,\n",
       " 'titled': 0.0012,\n",
       " 'computing': 0.0012,\n",
       " 'machinery': 0.0012,\n",
       " 'proposed': 0.0012,\n",
       " 'called': 0.0025,\n",
       " 'test': 0.0012,\n",
       " 'criterion': 0.0012,\n",
       " 'task': 0.005,\n",
       " 'involves': 0.0012,\n",
       " 'automated': 0.0012,\n",
       " 'interpretation': 0.0012,\n",
       " 'time': 0.0012,\n",
       " 'articulated': 0.0012,\n",
       " 'problem': 0.0012,\n",
       " 'separate': 0.0025,\n",
       " 'premise': 0.0012,\n",
       " 'symbolic': 0.0037,\n",
       " 'well': 0.0012,\n",
       " 'summarized': 0.0012,\n",
       " 'john': 0.0012,\n",
       " 'searle': 0.0012,\n",
       " 'chinese': 0.0025,\n",
       " 'room': 0.0012,\n",
       " 'experiment': 0.0012,\n",
       " 'given': 0.0037,\n",
       " 'collection': 0.0012,\n",
       " 'rules': 0.0112,\n",
       " 'e': 0.0062,\n",
       " 'g': 0.005,\n",
       " 'phrasebook': 0.0012,\n",
       " 'questions': 0.0012,\n",
       " 'matching': 0.0012,\n",
       " 'answers': 0.0025,\n",
       " 'emulates': 0.0012,\n",
       " 'tasks': 0.0099,\n",
       " 'applying': 0.0012,\n",
       " 'confronted': 0.0012,\n",
       " '1980s': 0.0037,\n",
       " 'systems': 0.0074,\n",
       " 'based': 0.0099,\n",
       " 'complex': 0.0012,\n",
       " 'sets': 0.0012,\n",
       " 'hand': 0.005,\n",
       " 'written': 0.0025,\n",
       " 'starting': 0.0012,\n",
       " 'late': 0.0025,\n",
       " 'however': 0.005,\n",
       " 'revolution': 0.0025,\n",
       " 'introduction': 0.0012,\n",
       " 'machine': 0.0161,\n",
       " 'learning': 0.0161,\n",
       " 'algorithms': 0.0099,\n",
       " 'due': 0.0025,\n",
       " 'steady': 0.0012,\n",
       " 'increase': 0.0025,\n",
       " 'computational': 0.0012,\n",
       " 'power': 0.0012,\n",
       " 'see': 0.0012,\n",
       " 'moore': 0.0012,\n",
       " 'law': 0.0012,\n",
       " 'gradual': 0.0012,\n",
       " 'lessening': 0.0012,\n",
       " 'dominance': 0.0012,\n",
       " 'chomskyan': 0.0012,\n",
       " 'theories': 0.0012,\n",
       " 'transformational': 0.0012,\n",
       " 'grammar': 0.0025,\n",
       " 'whose': 0.0012,\n",
       " 'theoretical': 0.0012,\n",
       " 'underpinnings': 0.0012,\n",
       " 'discouraged': 0.0012,\n",
       " 'sort': 0.0012,\n",
       " 'corpus': 0.0025,\n",
       " 'underlies': 0.0012,\n",
       " 'approach': 0.0012,\n",
       " '6': 0.0012,\n",
       " '2010s': 0.0025,\n",
       " 'representation': 0.0012,\n",
       " 'deep': 0.0037,\n",
       " 'neural': 0.0074,\n",
       " 'network': 0.0025,\n",
       " 'style': 0.0012,\n",
       " 'methods': 0.0074,\n",
       " 'became': 0.0012,\n",
       " 'widespread': 0.0012,\n",
       " 'part': 0.0037,\n",
       " 'flurry': 0.0012,\n",
       " 'results': 0.005,\n",
       " 'showing': 0.0012,\n",
       " 'techniques': 0.0025,\n",
       " '7': 0.0012,\n",
       " '8': 0.0012,\n",
       " 'achieve': 0.0012,\n",
       " 'state': 0.0012,\n",
       " 'art': 0.0012,\n",
       " 'many': 0.0087,\n",
       " 'example': 0.0025,\n",
       " 'modeling': 0.0025,\n",
       " '9': 0.0012,\n",
       " 'parsing': 0.0025,\n",
       " '10': 0.0012,\n",
       " '11': 0.0012,\n",
       " 'others': 0.0025,\n",
       " 'early': 0.0025,\n",
       " 'days': 0.0012,\n",
       " 'designed': 0.0025,\n",
       " 'coding': 0.0012,\n",
       " 'set': 0.0037,\n",
       " 'coupled': 0.0012,\n",
       " 'dictionary': 0.0012,\n",
       " 'lookup': 0.0012,\n",
       " '12': 0.0012,\n",
       " '13': 0.0012,\n",
       " 'writing': 0.0012,\n",
       " 'grammars': 0.0012,\n",
       " 'devising': 0.0012,\n",
       " 'heuristic': 0.0012,\n",
       " 'stemming': 0.0012,\n",
       " 'recent': 0.0012,\n",
       " 'advantages': 0.0012,\n",
       " 'produced': 0.0025,\n",
       " 'despite': 0.0012,\n",
       " 'popularity': 0.0012,\n",
       " 'research': 0.0074,\n",
       " 'still': 0.0012,\n",
       " '2020': 0.0012,\n",
       " 'commonly': 0.0037,\n",
       " 'used': 0.0087,\n",
       " 'since': 0.0037,\n",
       " 'statistical': 0.0136,\n",
       " '14': 0.0012,\n",
       " '15': 0.0012,\n",
       " 'mid': 0.0012,\n",
       " '1990s': 0.0012,\n",
       " 'much': 0.0012,\n",
       " 'relied': 0.0012,\n",
       " 'heavily': 0.0012,\n",
       " 'paradigm': 0.0025,\n",
       " 'calls': 0.0012,\n",
       " 'instead': 0.0025,\n",
       " 'using': 0.0025,\n",
       " 'inference': 0.0037,\n",
       " 'automatically': 0.0012,\n",
       " 'learn': 0.0025,\n",
       " 'analysis': 0.0012,\n",
       " 'corpora': 0.0025,\n",
       " 'plural': 0.0012,\n",
       " 'form': 0.0012,\n",
       " 'documents': 0.0012,\n",
       " 'possibly': 0.0012,\n",
       " 'annotations': 0.0012,\n",
       " 'typical': 0.0012,\n",
       " 'real': 0.0062,\n",
       " 'world': 0.0037,\n",
       " 'examples': 0.0037,\n",
       " 'different': 0.0025,\n",
       " 'classes': 0.0012,\n",
       " 'applied': 0.0012,\n",
       " 'take': 0.0012,\n",
       " 'input': 0.0074,\n",
       " 'features': 0.0025,\n",
       " 'generated': 0.0012,\n",
       " 'increasingly': 0.0025,\n",
       " 'focused': 0.0025,\n",
       " 'models': 0.0087,\n",
       " 'make': 0.0025,\n",
       " 'soft': 0.0025,\n",
       " 'probabilistic': 0.0037,\n",
       " 'decisions': 0.0025,\n",
       " 'attaching': 0.0025,\n",
       " 'valued': 0.0025,\n",
       " 'weights': 0.0025,\n",
       " 'feature': 0.0025,\n",
       " 'advantage': 0.0012,\n",
       " 'express': 0.0012,\n",
       " 'relative': 0.0037,\n",
       " 'certainty': 0.0012,\n",
       " 'possible': 0.0012,\n",
       " 'rather': 0.0012,\n",
       " 'one': 0.0025,\n",
       " 'producing': 0.0012,\n",
       " 'reliable': 0.0025,\n",
       " 'model': 0.0012,\n",
       " 'included': 0.0012,\n",
       " 'component': 0.0012,\n",
       " 'larger': 0.0037,\n",
       " 'system': 0.0025,\n",
       " 'earliest': 0.0012,\n",
       " 'decision': 0.0012,\n",
       " 'trees': 0.0025,\n",
       " 'hard': 0.0012,\n",
       " 'similar': 0.0012,\n",
       " 'existing': 0.0012,\n",
       " 'tagging': 0.0025,\n",
       " 'introduced': 0.0012,\n",
       " 'use': 0.0025,\n",
       " 'hidden': 0.0012,\n",
       " 'markov': 0.0012,\n",
       " 'making': 0.0012,\n",
       " 'cache': 0.0012,\n",
       " 'upon': 0.0012,\n",
       " 'rely': 0.0012,\n",
       " 'generally': 0.0012,\n",
       " 'robust': 0.0012,\n",
       " 'unfamiliar': 0.0012,\n",
       " 'especially': 0.0012,\n",
       " 'contains': 0.0012,\n",
       " 'errors': 0.0012,\n",
       " 'common': 0.0012,\n",
       " 'produce': 0.0012,\n",
       " 'integrated': 0.0012,\n",
       " 'comprising': 0.0012,\n",
       " 'multiple': 0.0012,\n",
       " 'subtasks': 0.0025,\n",
       " 'turn': 0.0012,\n",
       " 'largely': 0.0025,\n",
       " 'replaced': 0.0012,\n",
       " 'networks': 0.0025,\n",
       " 'continue': 0.0012,\n",
       " 'relevant': 0.0012,\n",
       " 'contexts': 0.0012,\n",
       " 'interpretability': 0.0012,\n",
       " 'transparency': 0.0012,\n",
       " 'required': 0.0012,\n",
       " 'major': 0.0012,\n",
       " 'drawback': 0.0012,\n",
       " 'require': 0.0012,\n",
       " 'elaborate': 0.0012,\n",
       " 'engineering': 0.0012,\n",
       " '16': 0.0012,\n",
       " 'field': 0.0012,\n",
       " 'thus': 0.0012,\n",
       " 'abandoned': 0.0012,\n",
       " 'shifted': 0.0012,\n",
       " 'popular': 0.0012,\n",
       " 'include': 0.0012,\n",
       " 'word': 0.0074,\n",
       " 'embeddings': 0.0012,\n",
       " 'capture': 0.0012,\n",
       " 'semantic': 0.0012,\n",
       " 'properties': 0.0012,\n",
       " 'words': 0.0012,\n",
       " 'end': 0.0025,\n",
       " 'higher': 0.0012,\n",
       " 'level': 0.0012,\n",
       " 'question': 0.0012,\n",
       " 'answering': 0.0012,\n",
       " 'relying': 0.0012,\n",
       " 'pipeline': 0.0012,\n",
       " 'intermediate': 0.0025,\n",
       " 'dependency': 0.0012,\n",
       " 'areas': 0.0012,\n",
       " 'shift': 0.0012,\n",
       " 'entailed': 0.0012,\n",
       " 'substantial': 0.0012,\n",
       " 'changes': 0.0012,\n",
       " 'approaches': 0.0025,\n",
       " 'may': 0.0012,\n",
       " 'viewed': 0.0012,\n",
       " 'new': 0.0012,\n",
       " 'distinct': 0.0012,\n",
       " 'instance': 0.0012,\n",
       " 'term': 0.0012,\n",
       " 'translation': 0.0037,\n",
       " 'nmt': 0.0012,\n",
       " 'emphasizes': 0.0012,\n",
       " 'fact': 0.0012,\n",
       " 'directly': 0.0012,\n",
       " 'sequence': 0.0037,\n",
       " 'transformations': 0.0012,\n",
       " 'obviating': 0.0012,\n",
       " 'need': 0.0012,\n",
       " 'steps': 0.0012,\n",
       " 'alignment': 0.0012,\n",
       " 'smt': 0.0012,\n",
       " 'following': 0.0012,\n",
       " 'list': 0.0012,\n",
       " 'researched': 0.0012,\n",
       " 'direct': 0.0012,\n",
       " 'applications': 0.0012,\n",
       " 'serve': 0.0012,\n",
       " 'aid': 0.0012,\n",
       " 'solving': 0.0012,\n",
       " 'though': 0.0012,\n",
       " 'closely': 0.0012,\n",
       " 'intertwined': 0.0012,\n",
       " 'subdivided': 0.0012,\n",
       " 'categories': 0.0012,\n",
       " 'convenience': 0.0012,\n",
       " 'coarse': 0.0012,\n",
       " 'division': 0.0012,\n",
       " 'cognition': 0.0012,\n",
       " 'refers': 0.0012,\n",
       " 'mental': 0.0012,\n",
       " 'action': 0.0012,\n",
       " 'acquiring': 0.0012,\n",
       " 'knowledge': 0.0025,\n",
       " 'thought': 0.0012,\n",
       " 'experience': 0.0025,\n",
       " 'senses': 0.0012,\n",
       " '25': 0.0012,\n",
       " 'cognitive': 0.0099,\n",
       " 'interdisciplinary': 0.0025,\n",
       " 'scientific': 0.0012,\n",
       " 'study': 0.0012,\n",
       " 'mind': 0.0012,\n",
       " 'processes': 0.0012,\n",
       " '26': 0.0012,\n",
       " 'branch': 0.0012,\n",
       " 'combining': 0.0012,\n",
       " 'psychology': 0.0012,\n",
       " '27': 0.0012,\n",
       " 'george': 0.0012,\n",
       " 'lakoff': 0.0025,\n",
       " 'offers': 0.0012,\n",
       " 'methodology': 0.0012,\n",
       " 'build': 0.0012,\n",
       " 'perspective': 0.0012,\n",
       " 'along': 0.0025,\n",
       " 'findings': 0.0012,\n",
       " '28': 0.0012,\n",
       " 'first': 0.0012,\n",
       " 'defining': 0.0025,\n",
       " 'aspect': 0.0025,\n",
       " 'application': 0.0012,\n",
       " 'theory': 0.0012,\n",
       " 'conceptual': 0.0025,\n",
       " 'metaphor': 0.0025,\n",
       " 'explained': 0.0012,\n",
       " 'idea': 0.0037,\n",
       " 'terms': 0.0012,\n",
       " 'another': 0.0012,\n",
       " 'provides': 0.0012,\n",
       " 'intent': 0.005,\n",
       " 'author': 0.005,\n",
       " '29': 0.0012,\n",
       " 'consider': 0.0012,\n",
       " 'meanings': 0.0012,\n",
       " 'english': 0.0012,\n",
       " 'big': 0.0074,\n",
       " 'comparative': 0.0012,\n",
       " 'tree': 0.0025,\n",
       " 'likely': 0.0025,\n",
       " 'imply': 0.0025,\n",
       " 'statement': 0.0012,\n",
       " 'physically': 0.0012,\n",
       " 'comparison': 0.0012,\n",
       " 'authors': 0.0012,\n",
       " 'stative': 0.0012,\n",
       " 'verb': 0.0012,\n",
       " 'tomorrow': 0.0012,\n",
       " 'day': 0.0012,\n",
       " 'importance': 0.0012,\n",
       " 'presented': 0.0037,\n",
       " 'complete': 0.0012,\n",
       " 'merely': 0.0012,\n",
       " 'indicators': 0.0012,\n",
       " 'implication': 0.0012,\n",
       " 'behind': 0.0012,\n",
       " 'usages': 0.0012,\n",
       " 'like': 0.0012,\n",
       " 'person': 0.0025,\n",
       " 'remain': 0.0012,\n",
       " 'somewhat': 0.0012,\n",
       " 'ambiguous': 0.0012,\n",
       " 'algorithm': 0.0012,\n",
       " 'alike': 0.0012,\n",
       " 'without': 0.0012,\n",
       " 'additional': 0.0012,\n",
       " 'information': 0.0025,\n",
       " 'leads': 0.0012,\n",
       " 'second': 0.0012,\n",
       " 'namely': 0.0012,\n",
       " 'context': 0.0012,\n",
       " 'free': 0.0012,\n",
       " 'pcfg': 0.0012,\n",
       " 'enables': 0.0012,\n",
       " 'assign': 0.0012,\n",
       " 'measures': 0.0012,\n",
       " 'meaning': 0.0037,\n",
       " 'phrase': 0.0025,\n",
       " 'sentence': 0.0025,\n",
       " 'piece': 0.0025,\n",
       " 'text': 0.0037,\n",
       " 'analyzed': 0.0025,\n",
       " 'mathematical': 0.0012,\n",
       " 'equation': 0.0012,\n",
       " 'us': 0.0012,\n",
       " 'patent': 0.0012,\n",
       " '9269353': 0.0012,\n",
       " 'rmm': 0.0012,\n",
       " 'measure': 0.0025,\n",
       " 'token': 0.0025,\n",
       " 'block': 0.0012,\n",
       " 'n': 0.0025,\n",
       " 'number': 0.0012,\n",
       " 'tokens': 0.0025,\n",
       " 'pmm': 0.0012,\n",
       " 'probable': 0.0012,\n",
       " 'location': 0.0012,\n",
       " '1': 0.0012,\n",
       " 'pf': 0.0012,\n",
       " 'probability': 0.0012,\n",
       " 'function': 0.0012,\n",
       " 'specific': 0.0012}"
      ]
     },
     "execution_count": 57,
     "metadata": {},
     "output_type": "execute_result"
    }
   ],
   "source": [
    "word_freq = {}\n",
    "for words in freq_dist.keys():\n",
    "    word_freq[words] = freq_dist.get(words)\n",
    "w_freq ={}\n",
    "total_num_words = len(stopwords_tokens)\n",
    "for key,value in word_freq.items():\n",
    "    w_freq[key] = round(value/total_num_words, 4)\n",
    "\n",
    "w_freq"
   ]
  },
  {
   "cell_type": "markdown",
   "metadata": {},
   "source": [
    "Reference:https://medium.com/dataseries/summarizing-ai-articles-using-ai-what-else-c1c16a80dbb5"
   ]
  },
  {
   "cell_type": "code",
   "execution_count": 60,
   "metadata": {},
   "outputs": [],
   "source": [
    "#scoring the sentence\n",
    "from nltk.tokenize import sent_tokenize\n",
    "sentences=sent_tokenize(mytext)\n",
    "sentence_score = {}\n",
    "for sent in sentences:\n",
    "    sentece = sent.split( \" \")\n",
    "    for word in sentece:\n",
    "        if word.lower() in w_freq.keys():\n",
    "            if sent not in sentence_score.keys():\n",
    "                 sentence_score[sent]  =  w_freq[word.lower()]\n",
    "            else :\n",
    "                sentence_score[sent]  +=  w_freq[word.lower()]\n",
    "            "
   ]
  },
  {
   "cell_type": "code",
   "execution_count": 65,
   "metadata": {},
   "outputs": [
    {
     "data": {
      "text/plain": [
       "' [6]\\nIn the 2010s, representation learning and deep neural network-style machine learning methods became widespread in natural language processing, due in part to a flurry of results showing that such techniques[7][8] can achieve state-of-the-art results in many natural language tasks, for example in language modeling,[9] parsing,[10][11] and many others.More recent systems based on machine-learning algorithms have many advantages over hand-produced rules: \\nDespite the popularity of machine learning in NLP research, symbolic methods are still (2020) commonly used\\nSince the so-called \"statistical revolution\"[14][15] in the late 1980s and mid-1990s, much natural language processing research has relied heavily on machine learning.[27] George Lakoff offers a methodology to build Natural language processing (NLP) algorithms through the perspective of Cognitive science, along with the findings of Cognitive linguistics:[28]\\nThe first defining aspect of this cognitive task of NLP is the application of the theory of Conceptual metaphor, explained by Lakoff as “the understanding of one idea, in terms of another” which provides an idea of the intent of the author.Natural language processing (NLP) is a subfield of linguistics, computer science, and artificial intelligence concerned with the interactions between computers and human language, in particular how to program computers to process and analyze large amounts of natural language data.Starting in the late 1980s, however, there was a revolution in natural language processing with the introduction of machine learning algorithms for language processing.'"
      ]
     },
     "execution_count": 65,
     "metadata": {},
     "output_type": "execute_result"
    }
   ],
   "source": [
    "import operator\n",
    "freq = sorted(sentence_score.items(), key=operator.itemgetter(1), reverse = True)\n",
    "text_summary = freq[:5]\n",
    "text_summary = dict(text_summary)\n",
    "summary = \" \"\n",
    "for key,value in text_summary.items():\n",
    "    summary = summary + key\n",
    "summary"
   ]
  },
  {
   "cell_type": "markdown",
   "metadata": {},
   "source": [
    "**Summarize the same text data using Gensim with TextRank**"
   ]
  },
  {
   "cell_type": "code",
   "execution_count": 23,
   "metadata": {},
   "outputs": [
    {
     "name": "stdout",
     "output_type": "stream",
     "text": [
      "Collecting gensim\n",
      "  Downloading https://files.pythonhosted.org/packages/0b/66/04faeedb98bfa5f241d0399d0102456886179cabac0355475f23a2978847/gensim-3.8.3-cp37-cp37m-win_amd64.whl (24.2MB)\n",
      "Requirement already satisfied: six>=1.5.0 in c:\\users\\skura\\appdata\\local\\continuum\\anaconda3\\lib\\site-packages (from gensim) (1.12.0)\n",
      "Collecting smart-open>=1.8.1 (from gensim)\n",
      "  Downloading https://files.pythonhosted.org/packages/11/9a/ba2d5f67f25e8d5bbf2fcec7a99b1e38428e83cb715f64dd179ca43a11bb/smart_open-3.0.0.tar.gz (113kB)\n",
      "Requirement already satisfied: scipy>=0.18.1 in c:\\users\\skura\\appdata\\local\\continuum\\anaconda3\\lib\\site-packages (from gensim) (1.4.1)\n",
      "Collecting Cython==0.29.14 (from gensim)\n",
      "  Downloading https://files.pythonhosted.org/packages/1f/be/b14be5c3ad1ff73096b518be1538282f053ec34faaca60a8753d975d7e93/Cython-0.29.14-cp37-cp37m-win_amd64.whl (1.7MB)\n",
      "Requirement already satisfied: numpy>=1.11.3 in c:\\users\\skura\\appdata\\local\\continuum\\anaconda3\\lib\\site-packages (from gensim) (1.16.4)\n",
      "Requirement already satisfied: requests in c:\\users\\skura\\appdata\\local\\continuum\\anaconda3\\lib\\site-packages (from smart-open>=1.8.1->gensim) (2.22.0)\n",
      "Requirement already satisfied: urllib3!=1.25.0,!=1.25.1,<1.26,>=1.21.1 in c:\\users\\skura\\appdata\\local\\continuum\\anaconda3\\lib\\site-packages (from requests->smart-open>=1.8.1->gensim) (1.24.2)\n",
      "Requirement already satisfied: idna<2.9,>=2.5 in c:\\users\\skura\\appdata\\local\\continuum\\anaconda3\\lib\\site-packages (from requests->smart-open>=1.8.1->gensim) (2.8)\n",
      "Requirement already satisfied: chardet<3.1.0,>=3.0.2 in c:\\users\\skura\\appdata\\local\\continuum\\anaconda3\\lib\\site-packages (from requests->smart-open>=1.8.1->gensim) (3.0.4)\n",
      "Requirement already satisfied: certifi>=2017.4.17 in c:\\users\\skura\\appdata\\local\\continuum\\anaconda3\\lib\\site-packages (from requests->smart-open>=1.8.1->gensim) (2019.6.16)\n",
      "Building wheels for collected packages: smart-open\n",
      "  Building wheel for smart-open (setup.py): started\n",
      "  Building wheel for smart-open (setup.py): finished with status 'done'\n",
      "  Stored in directory: C:\\Users\\skura\\AppData\\Local\\pip\\Cache\\wheels\\18\\88\\7c\\f06dabd5e9cabe02d2269167bcacbbf9b47d0c0ff7d6ebcb78\n",
      "Successfully built smart-open\n",
      "Installing collected packages: smart-open, Cython, gensim\n",
      "  Found existing installation: Cython 0.29.12\n",
      "    Uninstalling Cython-0.29.12:\n",
      "      Successfully uninstalled Cython-0.29.12\n",
      "Successfully installed Cython-0.29.14 gensim-3.8.3 smart-open-3.0.0\n",
      "Note: you may need to restart the kernel to use updated packages.\n"
     ]
    }
   ],
   "source": [
    "pip install gensim"
   ]
  },
  {
   "cell_type": "code",
   "execution_count": 24,
   "metadata": {},
   "outputs": [
    {
     "data": {
      "text/plain": [
       "'The premise of symbolic NLP is well-summarized by John Searle\\'s Chinese room experiment: Given a collection of rules (e.g., a Chinese phrasebook, with questions and matching answers), the computer emulates natural language understanding (or other NLP tasks) by applying those rules to the data it is confronted with.\\nIn the 2010s, representation learning and deep neural network-style machine learning methods became widespread in natural language processing, due in part to a flurry of results showing that such techniques[7][8] can achieve state-of-the-art results in many natural language tasks, for example in language modeling,[9] parsing,[10][11] and many others.\\nMore recent systems based on machine-learning algorithms have many advantages over hand-produced rules: \\nSince the so-called \"statistical revolution\"[14][15] in the late 1980s and mid-1990s, much natural language processing research has relied heavily on machine learning.\\nThe machine-learning paradigm calls instead for using statistical inference to automatically learn such rules through the analysis of large corpora (the plural form of corpus, is a set of documents, possibly with human or computer annotations) of typical real-world examples.\\nMany different classes of machine-learning algorithms have been applied to natural-language-processing tasks.\\nHowever, part-of-speech tagging introduced the use of hidden Markov models to natural language processing, and increasingly, research has focused on statistical models, which make soft, probabilistic decisions based on attaching real-valued weights to the features making up the input data.\\nIn some areas, this shift has entailed substantial changes in how NLP systems are designed, such that deep neural network-based approaches may be viewed as a new paradigm distinct from statistical natural language processing.\\nThis leads to the second defining aspect of this cognitive task of NLP, namely Probabilistic context-free grammar (PCFG) which enables cognitive NLP algorithms to assign relative measures of meaning  to a word, phrase, sentence or piece of text based on the information presented before and after the piece of text being analyzed.'"
      ]
     },
     "execution_count": 24,
     "metadata": {},
     "output_type": "execute_result"
    }
   ],
   "source": [
    "from gensim.summarization import summarize\n",
    "summarize(mytext)"
   ]
  },
  {
   "cell_type": "code",
   "execution_count": 25,
   "metadata": {
    "scrolled": true
   },
   "outputs": [
    {
     "data": {
      "text/plain": [
       "'Since the so-called \"statistical revolution\"[14][15] in the late 1980s and mid-1990s, much natural language processing research has relied heavily on machine learning.\\nThe machine-learning paradigm calls instead for using statistical inference to automatically learn such rules through the analysis of large corpora (the plural form of corpus, is a set of documents, possibly with human or computer annotations) of typical real-world examples.\\nHowever, part-of-speech tagging introduced the use of hidden Markov models to natural language processing, and increasingly, research has focused on statistical models, which make soft, probabilistic decisions based on attaching real-valued weights to the features making up the input data.\\nThis leads to the second defining aspect of this cognitive task of NLP, namely Probabilistic context-free grammar (PCFG) which enables cognitive NLP algorithms to assign relative measures of meaning  to a word, phrase, sentence or piece of text based on the information presented before and after the piece of text being analyzed.'"
      ]
     },
     "execution_count": 25,
     "metadata": {},
     "output_type": "execute_result"
    }
   ],
   "source": [
    "summarize(mytext, ratio=0.10)"
   ]
  },
  {
   "cell_type": "code",
   "execution_count": 26,
   "metadata": {},
   "outputs": [
    {
     "data": {
      "text/plain": [
       "'However, part-of-speech tagging introduced the use of hidden Markov models to natural language processing, and increasingly, research has focused on statistical models, which make soft, probabilistic decisions based on attaching real-valued weights to the features making up the input data.'"
      ]
     },
     "execution_count": 26,
     "metadata": {},
     "output_type": "execute_result"
    }
   ],
   "source": [
    "summarize(mytext, word_count=30)"
   ]
  },
  {
   "cell_type": "code",
   "execution_count": 27,
   "metadata": {},
   "outputs": [
    {
     "data": {
      "text/plain": [
       "['learn',\n",
       " 'statistical',\n",
       " 'large',\n",
       " 'largely',\n",
       " 'machine learning',\n",
       " 'rules',\n",
       " 'cognition',\n",
       " 'cognitive',\n",
       " 'task',\n",
       " 'tasks',\n",
       " 'natural language processing',\n",
       " 'real',\n",
       " 'based',\n",
       " 'computers',\n",
       " 'computing',\n",
       " 'computational',\n",
       " 'process',\n",
       " 'processes',\n",
       " 'nlp',\n",
       " 'experiment',\n",
       " 'experience',\n",
       " 'systems',\n",
       " 'results',\n",
       " 'turing',\n",
       " 'features',\n",
       " 'feature',\n",
       " 'research',\n",
       " 'researched',\n",
       " 'data',\n",
       " 'answers',\n",
       " 'answering',\n",
       " 'grammar',\n",
       " 'grammars',\n",
       " 'word',\n",
       " 'words',\n",
       " 'neural',\n",
       " 'big',\n",
       " 'linguistics',\n",
       " 'hand',\n",
       " 'input',\n",
       " 'relative',\n",
       " 'paradigm',\n",
       " 'translation',\n",
       " 'modeling',\n",
       " 'models',\n",
       " 'model',\n",
       " 'possibly',\n",
       " 'possible',\n",
       " 'producing',\n",
       " 'produced',\n",
       " 'produce',\n",
       " 'semantic',\n",
       " 'information',\n",
       " 'substantial',\n",
       " 'metaphor',\n",
       " 'multiple',\n",
       " 'somewhat',\n",
       " 'intelligence',\n",
       " 'underpinnings',\n",
       " 'defining',\n",
       " 'transformational',\n",
       " 'transformations',\n",
       " 'intermediate',\n",
       " 'probabilistic',\n",
       " 'interdisciplinary scientific']"
      ]
     },
     "execution_count": 27,
     "metadata": {},
     "output_type": "execute_result"
    }
   ],
   "source": [
    "from gensim.summarization import keywords\n",
    "keywords(mytext, split=True)"
   ]
  },
  {
   "cell_type": "code",
   "execution_count": 29,
   "metadata": {
    "scrolled": true
   },
   "outputs": [
    {
     "data": {
      "text/plain": [
       "['learning',\n",
       " 'learn',\n",
       " 'statistical',\n",
       " 'large',\n",
       " 'largely',\n",
       " 'rules',\n",
       " 'cognition',\n",
       " 'cognitive',\n",
       " 'task',\n",
       " 'tasks',\n",
       " 'natural language processing',\n",
       " 'real',\n",
       " 'based',\n",
       " 'computers',\n",
       " 'computing',\n",
       " 'computational',\n",
       " 'process',\n",
       " 'processes',\n",
       " 'nlp',\n",
       " 'experiment',\n",
       " 'experience',\n",
       " 'systems',\n",
       " 'results',\n",
       " 'turing',\n",
       " 'features',\n",
       " 'feature',\n",
       " 'research',\n",
       " 'researched',\n",
       " 'data',\n",
       " 'answers',\n",
       " 'answering',\n",
       " 'grammar',\n",
       " 'grammars',\n",
       " 'word',\n",
       " 'words',\n",
       " 'neural']"
      ]
     },
     "execution_count": 29,
     "metadata": {},
     "output_type": "execute_result"
    }
   ],
   "source": [
    "keywords(mytext, ratio = 0.1, split=True)"
   ]
  },
  {
   "cell_type": "markdown",
   "metadata": {},
   "source": [
    "Compare 3.1 method with Gensim-TextRank. What’s different and why? Could your methods be improved? And How to improve? Please clearly explain."
   ]
  },
  {
   "cell_type": "markdown",
   "metadata": {},
   "source": [
    "From the comparision, The text summary which is generated using theWord-weight frequency calculation, we handle the set of words form the given a text a set of terms are weighted mannually. Where as if we use genism methods, the task of keyword extraction algorithm is automatically identifying the set of terms from the text.extRank is very well suited for applications involving entire sentences, since it allows for a ranking over text units that is recursively computed based on information drawn from the entire text. n-grams models can improve the quality of output summaries, with the flexiblity."
   ]
  },
  {
   "cell_type": "code",
   "execution_count": null,
   "metadata": {},
   "outputs": [],
   "source": []
  },
  {
   "cell_type": "code",
   "execution_count": null,
   "metadata": {},
   "outputs": [],
   "source": []
  }
 ],
 "metadata": {
  "kernelspec": {
   "display_name": "Python 3",
   "language": "python",
   "name": "python3"
  },
  "language_info": {
   "codemirror_mode": {
    "name": "ipython",
    "version": 3
   },
   "file_extension": ".py",
   "mimetype": "text/x-python",
   "name": "python",
   "nbconvert_exporter": "python",
   "pygments_lexer": "ipython3",
   "version": "3.7.3"
  }
 },
 "nbformat": 4,
 "nbformat_minor": 2
}
