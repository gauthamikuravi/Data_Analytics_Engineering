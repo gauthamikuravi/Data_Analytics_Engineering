{
 "cells": [
  {
   "cell_type": "markdown",
   "metadata": {},
   "source": [
    "####  Assignment 11\n",
    "\n",
    "**Sai Gauthami Kuravi**\n",
    "\n",
    "<ol>\n",
    "    <li>Construct, train and test a neural network to predict high utilization in the next one year using recurrent neural networks. </li>\n",
    "    <li>You should use tensorflow library to do so</li>\n",
    "    <li>Please submit python notebook and html version of the output showing results. </li>\n",
    "\n",
    "</ol>\n"
   ]
  },
  {
   "cell_type": "code",
   "execution_count": 1,
   "metadata": {},
   "outputs": [],
   "source": [
    "import pandas as pd\n",
    "import numpy as np\n",
    "import matplotlib.pyplot as plt\n",
    "import tensorflow as tf\n",
    "from tensorflow import keras\n",
    "from tensorflow import feature_column\n",
    "from tensorflow.keras import layers\n",
    "from sklearn.metrics import accuracy_score,roc_auc_score"
   ]
  },
  {
   "cell_type": "code",
   "execution_count": 2,
   "metadata": {},
   "outputs": [],
   "source": [
    "import os\n",
    "os.getcwd()\n",
    "os.chdir(r'C:\\Users\\skura\\Desktop')\n",
    "df = pd.read_csv('exlix_binary_claims_w_dates.csv')\n"
   ]
  },
  {
   "cell_type": "code",
   "execution_count": 3,
   "metadata": {},
   "outputs": [],
   "source": [
    "back_window = 20 # this is number of claims\n",
    "shift = 1 # this is number of claims\n",
    "# forward window defined in terms of days\n",
    "forward_window = 365"
   ]
  },
  {
   "cell_type": "code",
   "execution_count": 4,
   "metadata": {},
   "outputs": [],
   "source": [
    "#\n",
    "# split in training/testing by patient\n",
    "#\n",
    "from sklearn.model_selection import train_test_split\n",
    "\n",
    "pts = df['patient_id'].unique()\n",
    "\n",
    "trp, tsp = train_test_split(pts)"
   ]
  },
  {
   "cell_type": "code",
   "execution_count": 5,
   "metadata": {},
   "outputs": [],
   "source": [
    "tr = df[df['patient_id'].isin(trp)]\n",
    "ts = df[df['patient_id'].isin(tsp)]"
   ]
  },
  {
   "cell_type": "code",
   "execution_count": 6,
   "metadata": {},
   "outputs": [],
   "source": [
    "x_tr = [] # inputs\n",
    "y_tr = [] # outputs\n",
    "for p in trp[:10000]:\n",
    "    pt = tr[tr['patient_id'] == p]\n",
    "    for t in range(back_window, len(pt)):\n",
    "        # input variables\n",
    "        x_tr.append(pt[t-back_window:t].iloc[:,2:])\n",
    "    \n",
    "        # output variable\n",
    "        t_days = pt.iloc[t].claim_days_cum\n",
    "        y_tr.append(len(pt[(pt['claim_days_cum'] > t_days) & (pt['claim_days_cum'] <= t_days + 365) ]))\n",
    "    \n",
    "        #stop looping if past year 2\n",
    "        if pt.iloc[t].claim_days_cum > 730:\n",
    "            break\n",
    "        "
   ]
  },
  {
   "cell_type": "code",
   "execution_count": 7,
   "metadata": {},
   "outputs": [],
   "source": [
    "x_ts = [] # inputs\n",
    "y_ts = [] # outputs\n",
    "for p in tsp[:1000]:\n",
    "    pt = ts[ts['patient_id'] == p]\n",
    "    for t in range(back_window, len(pt)):\n",
    "        # input variables\n",
    "        x_ts.append(pt[t-back_window:t].iloc[:,2:])\n",
    "    \n",
    "        # output variable\n",
    "        t_days = pt.iloc[t].claim_days_cum\n",
    "        y_ts.append(len(pt[(pt['claim_days_cum'] > t_days) & (pt['claim_days_cum'] <= t_days + 365) ]))\n",
    "    \n",
    "        #stop looping if past year 2\n",
    "        if pt.iloc[t].claim_days_cum > 730:\n",
    "            break"
   ]
  },
  {
   "cell_type": "code",
   "execution_count": 8,
   "metadata": {
    "scrolled": true
   },
   "outputs": [
    {
     "data": {
      "text/plain": [
       "array([0, 0, 0, ..., 1, 1, 1])"
      ]
     },
     "execution_count": 8,
     "metadata": {},
     "output_type": "execute_result"
    }
   ],
   "source": [
    "y_ts = (np.array(y_ts) >= 100).astype('int')\n",
    "y_ts"
   ]
  },
  {
   "cell_type": "code",
   "execution_count": 9,
   "metadata": {},
   "outputs": [],
   "source": [
    "x_tr_vals = np.array([xx.values for xx in x_tr]).astype('float32')\n",
    "x_ts_vals = np.array([xx.values for xx in x_ts]).astype('float32')"
   ]
  },
  {
   "cell_type": "code",
   "execution_count": 10,
   "metadata": {},
   "outputs": [],
   "source": [
    "y_tr = (np.array(y_tr) >= 100).astype('int')"
   ]
  },
  {
   "cell_type": "code",
   "execution_count": 11,
   "metadata": {},
   "outputs": [],
   "source": [
    "import tensorflow as tf"
   ]
  },
  {
   "cell_type": "code",
   "execution_count": 12,
   "metadata": {},
   "outputs": [],
   "source": [
    "elix_lstm_model = tf.keras.models.Sequential([\n",
    "    tf.keras.layers.LSTM(29, input_shape=(20,29)),\n",
    "    tf.keras.layers.Dense(1, activation='sigmoid')\n",
    "])\n",
    "\n",
    "elix_lstm_model.compile(optimizer='adam', loss='binary_crossentropy')"
   ]
  },
  {
   "cell_type": "code",
   "execution_count": 13,
   "metadata": {},
   "outputs": [
    {
     "name": "stdout",
     "output_type": "stream",
     "text": [
      "Train on 320794 samples\n",
      "Epoch 1/40\n",
      "320794/320794 [==============================] - 75s 234us/sample - loss: 0.4536\n",
      "Epoch 2/40\n",
      "320794/320794 [==============================] - 74s 229us/sample - loss: 0.4260\n",
      "Epoch 3/40\n",
      "320794/320794 [==============================] - 73s 229us/sample - loss: 0.4086\n",
      "Epoch 4/40\n",
      "320794/320794 [==============================] - 73s 227us/sample - loss: 0.3927\n",
      "Epoch 5/40\n",
      "320794/320794 [==============================] - 6711s 21ms/sample - loss: 0.3802\n",
      "Epoch 6/40\n",
      "320794/320794 [==============================] - 61s 190us/sample - loss: 0.3694\n",
      "Epoch 7/40\n",
      "320794/320794 [==============================] - 65s 204us/sample - loss: 0.3609\n",
      "Epoch 8/40\n",
      "320794/320794 [==============================] - 71s 222us/sample - loss: 0.3528\n",
      "Epoch 9/40\n",
      "320794/320794 [==============================] - 75s 235us/sample - loss: 0.3459\n",
      "Epoch 10/40\n",
      "320794/320794 [==============================] - 84s 260us/sample - loss: 0.3399\n",
      "Epoch 11/40\n",
      "320794/320794 [==============================] - 76s 237us/sample - loss: 0.3341\n",
      "Epoch 12/40\n",
      "320794/320794 [==============================] - 77s 241us/sample - loss: 0.3293\n",
      "Epoch 13/40\n",
      "320794/320794 [==============================] - 77s 241us/sample - loss: 0.3250\n",
      "Epoch 14/40\n",
      "320794/320794 [==============================] - 76s 238us/sample - loss: 0.3208\n",
      "Epoch 15/40\n",
      "320794/320794 [==============================] - 76s 238us/sample - loss: 0.3170\n",
      "Epoch 16/40\n",
      "320794/320794 [==============================] - 76s 238us/sample - loss: 0.3143\n",
      "Epoch 17/40\n",
      "320794/320794 [==============================] - 75s 235us/sample - loss: 0.3109\n",
      "Epoch 18/40\n",
      "320794/320794 [==============================] - 73s 228us/sample - loss: 0.3077\n",
      "Epoch 19/40\n",
      "320794/320794 [==============================] - 73s 229us/sample - loss: 0.3054\n",
      "Epoch 20/40\n",
      "320794/320794 [==============================] - 73s 228us/sample - loss: 0.3026\n",
      "Epoch 21/40\n",
      "320794/320794 [==============================] - 73s 227us/sample - loss: 0.3007\n",
      "Epoch 22/40\n",
      "320794/320794 [==============================] - 73s 229us/sample - loss: 0.2986\n",
      "Epoch 23/40\n",
      "320794/320794 [==============================] - 74s 230us/sample - loss: 0.2962\n",
      "Epoch 24/40\n",
      "320794/320794 [==============================] - 74s 231us/sample - loss: 0.2943\n",
      "Epoch 25/40\n",
      "320794/320794 [==============================] - 74s 230us/sample - loss: 0.2922\n",
      "Epoch 26/40\n",
      "320794/320794 [==============================] - 73s 229us/sample - loss: 0.2905\n",
      "Epoch 27/40\n",
      "320794/320794 [==============================] - 74s 230us/sample - loss: 0.2891\n",
      "Epoch 28/40\n",
      "320794/320794 [==============================] - 72s 226us/sample - loss: 0.2878\n",
      "Epoch 29/40\n",
      "320794/320794 [==============================] - 73s 228us/sample - loss: 0.2864\n",
      "Epoch 30/40\n",
      "320794/320794 [==============================] - 74s 231us/sample - loss: 0.2848\n",
      "Epoch 31/40\n",
      "320794/320794 [==============================] - 73s 227us/sample - loss: 0.2836\n",
      "Epoch 32/40\n",
      "320794/320794 [==============================] - 73s 229us/sample - loss: 0.2827\n",
      "Epoch 33/40\n",
      "320794/320794 [==============================] - 2920s 9ms/sample - loss: 0.2812\n",
      "Epoch 34/40\n",
      "320794/320794 [==============================] - 66s 207us/sample - loss: 0.2804\n",
      "Epoch 35/40\n",
      "320794/320794 [==============================] - 64s 200us/sample - loss: 0.2795\n",
      "Epoch 36/40\n",
      "320794/320794 [==============================] - 70s 218us/sample - loss: 0.2779\n",
      "Epoch 37/40\n",
      "320794/320794 [==============================] - 75s 233us/sample - loss: 0.2776\n",
      "Epoch 38/40\n",
      "320794/320794 [==============================] - 82s 257us/sample - loss: 0.2767\n",
      "Epoch 39/40\n",
      "320794/320794 [==============================] - 80s 248us/sample - loss: 0.2754\n",
      "Epoch 40/40\n",
      "320794/320794 [==============================] - 78s 244us/sample - loss: 0.2750\n"
     ]
    },
    {
     "data": {
      "text/plain": [
       "<tensorflow.python.keras.callbacks.History at 0x1dbe6d04ec8>"
      ]
     },
     "execution_count": 13,
     "metadata": {},
     "output_type": "execute_result"
    }
   ],
   "source": [
    "elix_lstm_model.fit(x_tr_vals, y_tr, epochs=40,\n",
    "                      steps_per_epoch=None)"
   ]
  },
  {
   "cell_type": "code",
   "execution_count": 14,
   "metadata": {},
   "outputs": [
    {
     "data": {
      "text/plain": [
       "(31645, 20, 29)"
      ]
     },
     "execution_count": 14,
     "metadata": {},
     "output_type": "execute_result"
    }
   ],
   "source": [
    "x_ts_vals.shape"
   ]
  },
  {
   "cell_type": "code",
   "execution_count": 15,
   "metadata": {},
   "outputs": [
    {
     "data": {
      "text/plain": [
       "(320794, 20, 29)"
      ]
     },
     "execution_count": 15,
     "metadata": {},
     "output_type": "execute_result"
    }
   ],
   "source": [
    "x_tr_vals.shape"
   ]
  },
  {
   "cell_type": "code",
   "execution_count": 16,
   "metadata": {},
   "outputs": [],
   "source": [
    "probs = elix_lstm_model.predict_proba(x_ts_vals)"
   ]
  },
  {
   "cell_type": "code",
   "execution_count": 17,
   "metadata": {},
   "outputs": [
    {
     "data": {
      "text/plain": [
       "array([[0.06931208],\n",
       "       [0.42002192],\n",
       "       [0.3135628 ],\n",
       "       ...,\n",
       "       [0.01647905],\n",
       "       [0.00721705],\n",
       "       [0.00762643]], dtype=float32)"
      ]
     },
     "execution_count": 17,
     "metadata": {},
     "output_type": "execute_result"
    }
   ],
   "source": [
    "probs"
   ]
  },
  {
   "cell_type": "code",
   "execution_count": 18,
   "metadata": {},
   "outputs": [
    {
     "name": "stdout",
     "output_type": "stream",
     "text": [
      "31645/31645 [==============================] - 2s 48us/sample - loss: 0.6861\n"
     ]
    }
   ],
   "source": [
    "results = elix_lstm_model.evaluate(x_ts_vals, y_ts, batch_size=128)"
   ]
  },
  {
   "cell_type": "code",
   "execution_count": 19,
   "metadata": {},
   "outputs": [
    {
     "data": {
      "text/plain": [
       "0.6860758767155867"
      ]
     },
     "execution_count": 19,
     "metadata": {},
     "output_type": "execute_result"
    }
   ],
   "source": [
    "results"
   ]
  }
 ],
 "metadata": {
  "kernelspec": {
   "display_name": "Python 3",
   "language": "python",
   "name": "python3"
  },
  "language_info": {
   "codemirror_mode": {
    "name": "ipython",
    "version": 3
   },
   "file_extension": ".py",
   "mimetype": "text/x-python",
   "name": "python",
   "nbconvert_exporter": "python",
   "pygments_lexer": "ipython3",
   "version": "3.7.3"
  }
 },
 "nbformat": 4,
 "nbformat_minor": 4
}
